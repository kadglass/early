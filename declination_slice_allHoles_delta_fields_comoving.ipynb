{
 "cells": [
  {
   "cell_type": "code",
   "execution_count": 1,
   "metadata": {},
   "outputs": [],
   "source": [
    "import numpy as np\n",
    "\n",
    "import matplotlib as mpl\n",
    "import matplotlib.pyplot as plt\n",
    "import mpl_toolkits.axisartist.floating_axes as floating_axes\n",
    "import mpl_toolkits.axisartist.angle_helper as angle_helper\n",
    "from mpl_toolkits.axisartist.grid_finder import MaxNLocator\n",
    "from matplotlib.transforms import Affine2D\n",
    "from scipy.integrate import quad as quad\n",
    "%matplotlib notebook\n",
    "\n",
    "from astropy import constants as const\n",
    "from astropy.table import Table\n",
    "from astropy.io import fits\n",
    "import sys\n",
    "sys.path.insert(0, \"/scratch/ierez/IGMCosmo/VoidFinder/python/\")\n",
    "import voidfinder\n",
    "#from voidfinder.voidfinder_functions import xyz_to_radecz #THERE IS NO SUCH FUNCTION"
   ]
  },
  {
   "cell_type": "code",
   "execution_count": 2,
   "metadata": {},
   "outputs": [],
   "source": [
    "#copy pasted from github\n",
    "\n",
    "RtoD = 180./np.pi\n",
    "DtoR = np.pi/180.\n",
    "dec_offset = -90\n",
    "def to_array(table):\n",
    "    '''Convert table to numpy array'''\n",
    "\n",
    "    array = np.array([table['x'], table['y'], table['z']])\n",
    "    array = array.T\n",
    "\n",
    "    return array\n",
    "\n",
    "def xyz_to_radecz(sphere_table):\n",
    "    '''\n",
    "    Calculate the ra, dec coordinates for the centers of each sphere\n",
    "    '''\n",
    "\n",
    "    r = np.linalg.norm(to_array(sphere_table), axis=1)\n",
    "    sphere_table['r'] = r.T\n",
    "    sphere_table['ra'] = np.arctan(sphere_table['y']/sphere_table['x'])*RtoD\n",
    "    sphere_table['dec'] = np.arcsin(sphere_table['z']/sphere_table['r'])*RtoD\n",
    "\n",
    "    # Adjust ra value as necessary\n",
    "    boolean = np.logical_and(sphere_table['y'] != 0, sphere_table['x'] < 0)\n",
    "    sphere_table['ra'][boolean] += 180.\n",
    "\n",
    "    return sphere_table"
   ]
  },
  {
   "cell_type": "markdown",
   "metadata": {},
   "source": [
    "# Data files\n",
    "\n",
    "### Galaxies"
   ]
  },
  {
   "cell_type": "code",
   "execution_count": 3,
   "metadata": {},
   "outputs": [],
   "source": [
    "data_directory = '/scratch/ierez/IGMCosmo/VoidFinder/data/DR16S82_H/delta_fields/'\n",
    "\n",
    "# Original SDSS DR7 (KIAS-VAGC)\n",
    "deltafields_filename = data_directory + 'deltafields_RAadded90.fits'\n",
    "\n",
    "quasars_filename=data_directory + 'quasars.fits'\n",
    "\n",
    "#downDR7_filename = data_directory + 'kias1033_5_LOWZ.txt'\n",
    "\n",
    "quasars_filename='/scratch/sbenzvi_lab/boss/dr16/delta_fields/quasars.fits'"
   ]
  },
  {
   "cell_type": "markdown",
   "metadata": {},
   "source": [
    "### Voids"
   ]
  },
  {
   "cell_type": "code",
   "execution_count": 4,
   "metadata": {},
   "outputs": [],
   "source": [
    "void_directory = '/scratch/ierez/IGMCosmo/VoidFinder/outputs/delta_runs/before_names_20/'\n",
    "\n",
    "# Original DR7 voids\n",
    "void_filename = void_directory + 'deltafields_RAadded90._comoving_holes_noMagCut.txt'\n",
    "\n",
    "# Downsampled SDSS DR7 voids\n",
    "#downDR7void_filename = void_directory + 'kias1033_5_LOWZ_comoving_holes.txt'"
   ]
  },
  {
   "cell_type": "markdown",
   "metadata": {},
   "source": [
    "# Import data\n",
    "\n",
    "### Galaxies"
   ]
  },
  {
   "cell_type": "code",
   "execution_count": 5,
   "metadata": {},
   "outputs": [
    {
     "ename": "FileNotFoundError",
     "evalue": "[Errno 2] No such file or directory: '/scratch/sbenzvi_lab/boss/dr16/delta_fields/quasars.fits'",
     "output_type": "error",
     "traceback": [
      "\u001b[0;31m---------------------------------------------------------------------------\u001b[0m",
      "\u001b[0;31mFileNotFoundError\u001b[0m                         Traceback (most recent call last)",
      "\u001b[0;32m<ipython-input-5-6a53ea6bd8e3>\u001b[0m in \u001b[0;36m<module>\u001b[0;34m\u001b[0m\n\u001b[1;32m     10\u001b[0m \u001b[0mdeltaf\u001b[0m\u001b[0;34m[\u001b[0m\u001b[0;34m'z'\u001b[0m\u001b[0;34m]\u001b[0m\u001b[0;34m.\u001b[0m\u001b[0mname\u001b[0m\u001b[0;34m=\u001b[0m\u001b[0;34m'redshift'\u001b[0m\u001b[0;34m\u001b[0m\u001b[0;34m\u001b[0m\u001b[0m\n\u001b[1;32m     11\u001b[0m \u001b[0;34m\u001b[0m\u001b[0m\n\u001b[0;32m---> 12\u001b[0;31m \u001b[0mquasars\u001b[0m\u001b[0;34m=\u001b[0m\u001b[0mfits\u001b[0m\u001b[0;34m.\u001b[0m\u001b[0mopen\u001b[0m\u001b[0;34m(\u001b[0m\u001b[0mquasars_filename\u001b[0m\u001b[0;34m)\u001b[0m\u001b[0;34m\u001b[0m\u001b[0;34m\u001b[0m\u001b[0m\n\u001b[0m\u001b[1;32m     13\u001b[0m \u001b[0mquasars\u001b[0m\u001b[0;34m=\u001b[0m\u001b[0mTable\u001b[0m\u001b[0;34m(\u001b[0m\u001b[0mquasars\u001b[0m\u001b[0;34m[\u001b[0m\u001b[0;36m1\u001b[0m\u001b[0;34m]\u001b[0m\u001b[0;34m.\u001b[0m\u001b[0mdata\u001b[0m\u001b[0;34m)\u001b[0m\u001b[0;34m\u001b[0m\u001b[0;34m\u001b[0m\u001b[0m\n\u001b[1;32m     14\u001b[0m \u001b[0mquasars\u001b[0m\u001b[0;34m\u001b[0m\u001b[0;34m\u001b[0m\u001b[0m\n",
      "\u001b[0;32m/software/python3/3.7.1/lib/python3.7/site-packages/astropy/io/fits/hdu/hdulist.py\u001b[0m in \u001b[0;36mfitsopen\u001b[0;34m(name, mode, memmap, save_backup, cache, lazy_load_hdus, **kwargs)\u001b[0m\n\u001b[1;32m    163\u001b[0m \u001b[0;34m\u001b[0m\u001b[0m\n\u001b[1;32m    164\u001b[0m     return HDUList.fromfile(name, mode, memmap, save_backup, cache,\n\u001b[0;32m--> 165\u001b[0;31m                             lazy_load_hdus, **kwargs)\n\u001b[0m\u001b[1;32m    166\u001b[0m \u001b[0;34m\u001b[0m\u001b[0m\n\u001b[1;32m    167\u001b[0m \u001b[0;34m\u001b[0m\u001b[0m\n",
      "\u001b[0;32m/software/python3/3.7.1/lib/python3.7/site-packages/astropy/io/fits/hdu/hdulist.py\u001b[0m in \u001b[0;36mfromfile\u001b[0;34m(cls, fileobj, mode, memmap, save_backup, cache, lazy_load_hdus, **kwargs)\u001b[0m\n\u001b[1;32m    401\u001b[0m         return cls._readfrom(fileobj=fileobj, mode=mode, memmap=memmap,\n\u001b[1;32m    402\u001b[0m                              \u001b[0msave_backup\u001b[0m\u001b[0;34m=\u001b[0m\u001b[0msave_backup\u001b[0m\u001b[0;34m,\u001b[0m \u001b[0mcache\u001b[0m\u001b[0;34m=\u001b[0m\u001b[0mcache\u001b[0m\u001b[0;34m,\u001b[0m\u001b[0;34m\u001b[0m\u001b[0;34m\u001b[0m\u001b[0m\n\u001b[0;32m--> 403\u001b[0;31m                              lazy_load_hdus=lazy_load_hdus, **kwargs)\n\u001b[0m\u001b[1;32m    404\u001b[0m \u001b[0;34m\u001b[0m\u001b[0m\n\u001b[1;32m    405\u001b[0m     \u001b[0;34m@\u001b[0m\u001b[0mclassmethod\u001b[0m\u001b[0;34m\u001b[0m\u001b[0;34m\u001b[0m\u001b[0m\n",
      "\u001b[0;32m/software/python3/3.7.1/lib/python3.7/site-packages/astropy/io/fits/hdu/hdulist.py\u001b[0m in \u001b[0;36m_readfrom\u001b[0;34m(cls, fileobj, data, mode, memmap, cache, lazy_load_hdus, **kwargs)\u001b[0m\n\u001b[1;32m   1050\u001b[0m             \u001b[0;32mif\u001b[0m \u001b[0;32mnot\u001b[0m \u001b[0misinstance\u001b[0m\u001b[0;34m(\u001b[0m\u001b[0mfileobj\u001b[0m\u001b[0;34m,\u001b[0m \u001b[0m_File\u001b[0m\u001b[0;34m)\u001b[0m\u001b[0;34m:\u001b[0m\u001b[0;34m\u001b[0m\u001b[0;34m\u001b[0m\u001b[0m\n\u001b[1;32m   1051\u001b[0m                 \u001b[0;31m# instantiate a FITS file object (ffo)\u001b[0m\u001b[0;34m\u001b[0m\u001b[0;34m\u001b[0m\u001b[0;34m\u001b[0m\u001b[0m\n\u001b[0;32m-> 1052\u001b[0;31m                 \u001b[0mfileobj\u001b[0m \u001b[0;34m=\u001b[0m \u001b[0m_File\u001b[0m\u001b[0;34m(\u001b[0m\u001b[0mfileobj\u001b[0m\u001b[0;34m,\u001b[0m \u001b[0mmode\u001b[0m\u001b[0;34m=\u001b[0m\u001b[0mmode\u001b[0m\u001b[0;34m,\u001b[0m \u001b[0mmemmap\u001b[0m\u001b[0;34m=\u001b[0m\u001b[0mmemmap\u001b[0m\u001b[0;34m,\u001b[0m \u001b[0mcache\u001b[0m\u001b[0;34m=\u001b[0m\u001b[0mcache\u001b[0m\u001b[0;34m)\u001b[0m\u001b[0;34m\u001b[0m\u001b[0;34m\u001b[0m\u001b[0m\n\u001b[0m\u001b[1;32m   1053\u001b[0m             \u001b[0;31m# The Astropy mode is determined by the _File initializer if the\u001b[0m\u001b[0;34m\u001b[0m\u001b[0;34m\u001b[0m\u001b[0;34m\u001b[0m\u001b[0m\n\u001b[1;32m   1054\u001b[0m             \u001b[0;31m# supplied mode was None\u001b[0m\u001b[0;34m\u001b[0m\u001b[0;34m\u001b[0m\u001b[0;34m\u001b[0m\u001b[0m\n",
      "\u001b[0;32m/software/python3/3.7.1/lib/python3.7/site-packages/astropy/utils/decorators.py\u001b[0m in \u001b[0;36mwrapper\u001b[0;34m(*args, **kwargs)\u001b[0m\n\u001b[1;32m    533\u001b[0m                     \u001b[0mwarnings\u001b[0m\u001b[0;34m.\u001b[0m\u001b[0mwarn\u001b[0m\u001b[0;34m(\u001b[0m\u001b[0mmessage\u001b[0m\u001b[0;34m,\u001b[0m \u001b[0mwarning_type\u001b[0m\u001b[0;34m,\u001b[0m \u001b[0mstacklevel\u001b[0m\u001b[0;34m=\u001b[0m\u001b[0;36m2\u001b[0m\u001b[0;34m)\u001b[0m\u001b[0;34m\u001b[0m\u001b[0;34m\u001b[0m\u001b[0m\n\u001b[1;32m    534\u001b[0m \u001b[0;34m\u001b[0m\u001b[0m\n\u001b[0;32m--> 535\u001b[0;31m             \u001b[0;32mreturn\u001b[0m \u001b[0mfunction\u001b[0m\u001b[0;34m(\u001b[0m\u001b[0;34m*\u001b[0m\u001b[0margs\u001b[0m\u001b[0;34m,\u001b[0m \u001b[0;34m**\u001b[0m\u001b[0mkwargs\u001b[0m\u001b[0;34m)\u001b[0m\u001b[0;34m\u001b[0m\u001b[0;34m\u001b[0m\u001b[0m\n\u001b[0m\u001b[1;32m    536\u001b[0m \u001b[0;34m\u001b[0m\u001b[0m\n\u001b[1;32m    537\u001b[0m         \u001b[0;32mreturn\u001b[0m \u001b[0mwrapper\u001b[0m\u001b[0;34m\u001b[0m\u001b[0;34m\u001b[0m\u001b[0m\n",
      "\u001b[0;32m/software/python3/3.7.1/lib/python3.7/site-packages/astropy/io/fits/file.py\u001b[0m in \u001b[0;36m__init__\u001b[0;34m(self, fileobj, mode, memmap, overwrite, cache)\u001b[0m\n\u001b[1;32m    173\u001b[0m             \u001b[0mself\u001b[0m\u001b[0;34m.\u001b[0m\u001b[0m_open_fileobj\u001b[0m\u001b[0;34m(\u001b[0m\u001b[0mfileobj\u001b[0m\u001b[0;34m,\u001b[0m \u001b[0mmode\u001b[0m\u001b[0;34m,\u001b[0m \u001b[0moverwrite\u001b[0m\u001b[0;34m)\u001b[0m\u001b[0;34m\u001b[0m\u001b[0;34m\u001b[0m\u001b[0m\n\u001b[1;32m    174\u001b[0m         \u001b[0;32melif\u001b[0m \u001b[0misinstance\u001b[0m\u001b[0;34m(\u001b[0m\u001b[0mfileobj\u001b[0m\u001b[0;34m,\u001b[0m \u001b[0;34m(\u001b[0m\u001b[0mstr\u001b[0m\u001b[0;34m,\u001b[0m \u001b[0mbytes\u001b[0m\u001b[0;34m)\u001b[0m\u001b[0;34m)\u001b[0m\u001b[0;34m:\u001b[0m\u001b[0;34m\u001b[0m\u001b[0;34m\u001b[0m\u001b[0m\n\u001b[0;32m--> 175\u001b[0;31m             \u001b[0mself\u001b[0m\u001b[0;34m.\u001b[0m\u001b[0m_open_filename\u001b[0m\u001b[0;34m(\u001b[0m\u001b[0mfileobj\u001b[0m\u001b[0;34m,\u001b[0m \u001b[0mmode\u001b[0m\u001b[0;34m,\u001b[0m \u001b[0moverwrite\u001b[0m\u001b[0;34m)\u001b[0m\u001b[0;34m\u001b[0m\u001b[0;34m\u001b[0m\u001b[0m\n\u001b[0m\u001b[1;32m    176\u001b[0m         \u001b[0;32melse\u001b[0m\u001b[0;34m:\u001b[0m\u001b[0;34m\u001b[0m\u001b[0;34m\u001b[0m\u001b[0m\n\u001b[1;32m    177\u001b[0m             \u001b[0mself\u001b[0m\u001b[0;34m.\u001b[0m\u001b[0m_open_filelike\u001b[0m\u001b[0;34m(\u001b[0m\u001b[0mfileobj\u001b[0m\u001b[0;34m,\u001b[0m \u001b[0mmode\u001b[0m\u001b[0;34m,\u001b[0m \u001b[0moverwrite\u001b[0m\u001b[0;34m)\u001b[0m\u001b[0;34m\u001b[0m\u001b[0;34m\u001b[0m\u001b[0m\n",
      "\u001b[0;32m/software/python3/3.7.1/lib/python3.7/site-packages/astropy/io/fits/file.py\u001b[0m in \u001b[0;36m_open_filename\u001b[0;34m(self, filename, mode, overwrite)\u001b[0m\n\u001b[1;32m    562\u001b[0m \u001b[0;34m\u001b[0m\u001b[0m\n\u001b[1;32m    563\u001b[0m         \u001b[0;32mif\u001b[0m \u001b[0;32mnot\u001b[0m \u001b[0mself\u001b[0m\u001b[0;34m.\u001b[0m\u001b[0m_try_read_compressed\u001b[0m\u001b[0;34m(\u001b[0m\u001b[0mself\u001b[0m\u001b[0;34m.\u001b[0m\u001b[0mname\u001b[0m\u001b[0;34m,\u001b[0m \u001b[0mmagic\u001b[0m\u001b[0;34m,\u001b[0m \u001b[0mmode\u001b[0m\u001b[0;34m,\u001b[0m \u001b[0mext\u001b[0m\u001b[0;34m=\u001b[0m\u001b[0mext\u001b[0m\u001b[0;34m)\u001b[0m\u001b[0;34m:\u001b[0m\u001b[0;34m\u001b[0m\u001b[0;34m\u001b[0m\u001b[0m\n\u001b[0;32m--> 564\u001b[0;31m             \u001b[0mself\u001b[0m\u001b[0;34m.\u001b[0m\u001b[0m_file\u001b[0m \u001b[0;34m=\u001b[0m \u001b[0mfileobj_open\u001b[0m\u001b[0;34m(\u001b[0m\u001b[0mself\u001b[0m\u001b[0;34m.\u001b[0m\u001b[0mname\u001b[0m\u001b[0;34m,\u001b[0m \u001b[0mIO_FITS_MODES\u001b[0m\u001b[0;34m[\u001b[0m\u001b[0mmode\u001b[0m\u001b[0;34m]\u001b[0m\u001b[0;34m)\u001b[0m\u001b[0;34m\u001b[0m\u001b[0;34m\u001b[0m\u001b[0m\n\u001b[0m\u001b[1;32m    565\u001b[0m             \u001b[0mself\u001b[0m\u001b[0;34m.\u001b[0m\u001b[0mclose_on_error\u001b[0m \u001b[0;34m=\u001b[0m \u001b[0;32mTrue\u001b[0m\u001b[0;34m\u001b[0m\u001b[0;34m\u001b[0m\u001b[0m\n\u001b[1;32m    566\u001b[0m \u001b[0;34m\u001b[0m\u001b[0m\n",
      "\u001b[0;32m/software/python3/3.7.1/lib/python3.7/site-packages/astropy/io/fits/util.py\u001b[0m in \u001b[0;36mfileobj_open\u001b[0;34m(filename, mode)\u001b[0m\n\u001b[1;32m    390\u001b[0m     \"\"\"\n\u001b[1;32m    391\u001b[0m \u001b[0;34m\u001b[0m\u001b[0m\n\u001b[0;32m--> 392\u001b[0;31m     \u001b[0;32mreturn\u001b[0m \u001b[0mopen\u001b[0m\u001b[0;34m(\u001b[0m\u001b[0mfilename\u001b[0m\u001b[0;34m,\u001b[0m \u001b[0mmode\u001b[0m\u001b[0;34m,\u001b[0m \u001b[0mbuffering\u001b[0m\u001b[0;34m=\u001b[0m\u001b[0;36m0\u001b[0m\u001b[0;34m)\u001b[0m\u001b[0;34m\u001b[0m\u001b[0;34m\u001b[0m\u001b[0m\n\u001b[0m\u001b[1;32m    393\u001b[0m \u001b[0;34m\u001b[0m\u001b[0m\n\u001b[1;32m    394\u001b[0m \u001b[0;34m\u001b[0m\u001b[0m\n",
      "\u001b[0;31mFileNotFoundError\u001b[0m: [Errno 2] No such file or directory: '/scratch/sbenzvi_lab/boss/dr16/delta_fields/quasars.fits'"
     ]
    }
   ],
   "source": [
    "# Original SDSS DR7\n",
    "#dr7_galaxies = Table.read(dr7_filename, \n",
    "#                          format='ascii.commented_header', \n",
    "#                          include_names=['ra', 'dec', 'redshift', 'delta'])\n",
    "\n",
    "deltaf=fits.open(deltafields_filename)  \n",
    "\n",
    "deltaf=Table(deltaf[1].data)\n",
    "\n",
    "deltaf['z'].name='redshift'\n",
    "\n",
    "quasars=fits.open(quasars_filename) \n",
    "quasars=Table(quasars[1].data)\n",
    "quasars\n",
    "# Downsampled SDSS DR7\n",
    "#dr7LOWZ_galaxies = Table.read(downDR7_filename, \n",
    "#                              format='ascii.commented_header', \n",
    "#                              include_names=['ra', 'dec', 'redshift', 'Rgal', 'rabsmag'])"
   ]
  },
  {
   "cell_type": "markdown",
   "metadata": {},
   "source": [
    "##### Reduce original DR7 to magnitude-limited survey"
   ]
  },
  {
   "cell_type": "code",
   "execution_count": null,
   "metadata": {},
   "outputs": [],
   "source": [
    "#mag_cut = dr7_galaxies['rabsmag'] <= -20\n",
    "#z_cut = dr7_galaxies['redshift'] < 0.1026\n",
    "\n",
    "#vollim_dr7_galaxies = dr7_galaxies[np.logical_and(mag_cut, z_cut)]\n",
    "#vollim_dr7_galaxies = dr7_galaxies"
   ]
  },
  {
   "cell_type": "markdown",
   "metadata": {},
   "source": [
    "### Voids"
   ]
  },
  {
   "cell_type": "code",
   "execution_count": null,
   "metadata": {},
   "outputs": [],
   "source": [
    "# Original DR7 voids\n",
    "voids = Table.read(void_filename, format='ascii.commented_header')\n",
    "\n",
    "# Downsampled SDSS DR7 voids\n",
    "#dr7LOWZ_voids = Table.read(downDR7void_filename, format='ascii.commented_header')"
   ]
  },
  {
   "cell_type": "markdown",
   "metadata": {},
   "source": [
    "##### Convert x,y,z to ra,dec,z for voids"
   ]
  },
  {
   "cell_type": "code",
   "execution_count": null,
   "metadata": {},
   "outputs": [],
   "source": [
    "voids = xyz_to_radecz(voids)\n",
    "#dr7LOWZ_voids = xyz_to_radecz(dr7LOWZ_voids)"
   ]
  },
  {
   "cell_type": "markdown",
   "metadata": {},
   "source": [
    "# Convert redshift to comoving distance\n",
    "\n",
    "Going to plot $comoving distance$ in Mpch-1\n",
    "At these high redshifts, cz is not meaningful. So plot for comoving distance instead."
   ]
  },
  {
   "cell_type": "code",
   "execution_count": null,
   "metadata": {},
   "outputs": [],
   "source": [
    "c = const.c.to('km/s').value\n",
    "#z to comoving\n",
    "#voidfinder.distance.z_to_comoving_dist\n",
    "\n",
    "Omega_M = 0.3147\n",
    "c = const.c.to('km/s').value\n",
    "def Distance(z,omega_m = Omega_M,h = 1):\n",
    "    dist = np.ones(len(z))\n",
    "    H0 = 100*h\n",
    "    for i,redshift in enumerate(z):\n",
    "        a_start = 1/(1+redshift)\n",
    "        I = quad(f,a_start,1,args=omega_m)\n",
    "        dist[i] = I[0]*(c/H0)\n",
    "    return dist\n",
    "\n",
    "def f(a,omega_m = Omega_M):\n",
    "     return 1/(np.sqrt(a*omega_m*(1+((1-omega_m)*a**3/omega_m))))\n",
    "\n",
    "quasars['r']= Distance(quasars['z'],Omega_M,1)\n",
    "#Continue with voids['r']\n",
    "\n",
    "deltaf['r']= Distance(deltaf['redshift'],Omega_M,1)\n",
    "#dr7LOWZ_galaxies['cz'] = c*dr7LOWZ_galaxies['redshift']"
   ]
  },
  {
   "cell_type": "markdown",
   "metadata": {},
   "source": [
    "## Check inside the tables"
   ]
  },
  {
   "cell_type": "code",
   "execution_count": null,
   "metadata": {},
   "outputs": [],
   "source": [
    "deltaf[0:5]"
   ]
  },
  {
   "cell_type": "code",
   "execution_count": null,
   "metadata": {},
   "outputs": [],
   "source": [
    "voids[0:5]"
   ]
  },
  {
   "cell_type": "code",
   "execution_count": null,
   "metadata": {},
   "outputs": [],
   "source": [
    "quasars[0:5]"
   ]
  },
  {
   "cell_type": "code",
   "execution_count": null,
   "metadata": {},
   "outputs": [],
   "source": [
    "max(voids['ra'])"
   ]
  },
  {
   "cell_type": "code",
   "execution_count": null,
   "metadata": {},
   "outputs": [],
   "source": [
    "max(quasars['ra'])"
   ]
  },
  {
   "cell_type": "code",
   "execution_count": null,
   "metadata": {},
   "outputs": [],
   "source": [
    "max(deltaf['ra'])"
   ]
  },
  {
   "cell_type": "code",
   "execution_count": null,
   "metadata": {},
   "outputs": [],
   "source": [
    "voids['ra']=voids['ra']-90\n",
    "deltaf['ra']=deltaf['ra']-90"
   ]
  },
  {
   "cell_type": "markdown",
   "metadata": {},
   "source": [
    "# Function to set up axes\n",
    "\n",
    "Following function from declination_slice.ipynb"
   ]
  },
  {
   "cell_type": "code",
   "execution_count": null,
   "metadata": {},
   "outputs": [],
   "source": [
    "def setup_axes3(fig, rect, ra0, ra1, cz0, cz1):\n",
    "    \n",
    "    # rotate a bit for better orientation\n",
    "    #tr_rotate = Affine2D().translate(-90, 0) #already fixed ra\n",
    "    # scale degree to radians\n",
    "    tr_scale = Affine2D().scale(np.pi/180, 1)\n",
    "\n",
    "    #tr = tr_rotate + tr_scale + mpl.projections.PolarAxes.PolarTransform()\n",
    "    tr = tr_scale + mpl.projections.PolarAxes.PolarTransform()\n",
    "    \n",
    "    grid_locator1 = angle_helper.LocatorHMS(4)\n",
    "    tick_formatter1 = angle_helper.FormatterHMS()\n",
    "    \n",
    "    grid_locator2 = MaxNLocator(3)\n",
    "    \n",
    "    grid_helper = floating_axes.GridHelperCurveLinear(tr, extremes=(ra0, ra1, cz0, cz1),\n",
    "                                                      grid_locator1=grid_locator1,\n",
    "                                                      grid_locator2=grid_locator2,\n",
    "                                                      tick_formatter1=tick_formatter1,\n",
    "                                                      tick_formatter2=None)\n",
    "\n",
    "    ax1 = floating_axes.FloatingSubplot(fig, rect, grid_helper=grid_helper)\n",
    "    fig.add_subplot(ax1)\n",
    "    \n",
    "    # adjust axis\n",
    "    ax1.axis['left'].set_axis_direction('bottom')\n",
    "    \n",
    "    ax1.axis['right'].set_axis_direction('top')\n",
    "    \n",
    "    ax1.axis['bottom'].set_visible(False)\n",
    "    \n",
    "    ax1.axis['top'].set_axis_direction(\"bottom\")\n",
    "    ax1.axis['top'].toggle(ticklabels=True, label=True)\n",
    "    ax1.axis['top'].major_ticklabels.set_axis_direction(\"top\")\n",
    "    ax1.axis['top'].label.set_axis_direction(\"top\")\n",
    "    \n",
    "    #ax1.axis['left'].major_ticklabels.set_axis_direction('right')\n",
    "    ax1.axis[\"left\"].label.set_text(\"Comoving Distance [Mpc/h]\")\n",
    "    \n",
    "    aux_ax = ax1.get_aux_axes(tr)\n",
    "\n",
    "    aux_ax.patch = ax1.patch  \n",
    "    ax1.patch.zorder = 0.9  \n",
    "\n",
    "    return ax1, aux_ax"
   ]
  },
  {
   "cell_type": "markdown",
   "metadata": {},
   "source": [
    "# Wedge plot"
   ]
  },
  {
   "cell_type": "code",
   "execution_count": null,
   "metadata": {},
   "outputs": [],
   "source": [
    "# 'd' is declination and 's' is the thickness of the declination slice\n",
    "# Vary 'd' and 's' to get different slices\n",
    "d,s = -1.25, 2.5 #s=2.5\n",
    "\n",
    "# slice center, can use this for analysis since the slice thickness is very small\n",
    "slice_ = d + 0.5*s"
   ]
  },
  {
   "cell_type": "markdown",
   "metadata": {},
   "source": [
    "### Remove galaxies outside declination range"
   ]
  },
  {
   "cell_type": "code",
   "execution_count": null,
   "metadata": {},
   "outputs": [],
   "source": [
    "deltaf_dec_cut = np.logical_and(deltaf['dec'] > d, \n",
    "                                deltaf['dec'] <= d + s)\n",
    "\n",
    "#dr7LOWZ_dec_cut = np.logical_and(dr7LOWZ_galaxies['dec'] > d, \n",
    "#                                 dr7LOWZ_galaxies['dec'] <= d + s)\n",
    "#\n",
    "#vollim_dr7_dec_cut = np.logical_and(vollim_dr7_galaxies['dec'] > d, \n",
    "#                                    vollim_dr7_galaxies['dec'] <= d + s)\n",
    "#\n",
    "deltaf_dec_slice = deltaf[deltaf_dec_cut]\n",
    "#dr7LOWZ_dec_slice = dr7LOWZ_galaxies[dr7LOWZ_dec_cut]\n",
    "#vollim_dr7_dec_slice = vollim_dr7_galaxies[vollim_dr7_dec_cut]\n",
    "\n",
    "quasars_dec_cut = np.logical_and(quasars['dec'] > d, \n",
    "                             quasars['dec'] <= d + s)\n",
    "\n",
    "quasars_slice = quasars[quasars_dec_cut]"
   ]
  },
  {
   "cell_type": "markdown",
   "metadata": {},
   "source": [
    "### Remove galaxies outside distance range"
   ]
  },
  {
   "cell_type": "code",
   "execution_count": null,
   "metadata": {},
   "outputs": [],
   "source": [
    "cz_min, cz_max = min(deltaf['r']), max(quasars['r']) #32700\n",
    "\n",
    "deltaf_dist_boolean = np.logical_and(deltaf_dec_slice['r'] > cz_min, \n",
    "                                  deltaf_dec_slice['r'] <= cz_max)\n",
    "\n",
    "#dr7LOWZ_dist_boolean = np.logical_and(dr7LOWZ_dec_slice['cz'] > cz_min, \n",
    "#                                      dr7LOWZ_dec_slice['cz'] <= cz_max)\n",
    "#\n",
    "#vollim_dr7_dist_boolean = np.logical_and(vollim_dr7_dec_slice['cz'] > cz_min, \n",
    "#                                         vollim_dr7_dec_slice['cz'] <= cz_max)\n",
    "#\n",
    "deltaf_sample = deltaf_dec_slice[deltaf_dist_boolean]\n",
    "#dr7LOWZ_sample = dr7LOWZ_dec_slice[dr7LOWZ_dist_boolean]\n",
    "#vollim_dr7_sample = vollim_dr7_dec_slice[vollim_dr7_dist_boolean]\n"
   ]
  },
  {
   "cell_type": "markdown",
   "metadata": {},
   "source": [
    "### Voids that intersect the slice"
   ]
  },
  {
   "cell_type": "code",
   "execution_count": null,
   "metadata": {},
   "outputs": [],
   "source": [
    "deltaf_dec_intersect_cut = np.sin(np.abs(slice_ - voids['dec'])*np.pi/180)*voids['r'] <= voids['radius']\n",
    "#dr7LOWZ_dec_intersect_cut = np.sin(np.abs(slice_ - dr7LOWZ_voids['dec'])*np.pi/180)*dr7LOWZ_voids['r'] <= dr7LOWZ_voids['radius']\n",
    "\n",
    "void_sample = voids[deltaf_dec_intersect_cut]\n",
    "#dr7LOWZ_void_sample = dr7LOWZ_voids[dr7LOWZ_dec_intersect_cut]\n",
    "\n",
    "# Radius of void at intersection\n",
    "void_sample['radius_intersect'] = np.sqrt(void_sample['radius']**2 \n",
    "                                              - (np.sin(np.abs(slice_ - void_sample['dec'])*np.pi/180)*void_sample['r'])**2)\n",
    "\n",
    "#dr7LOWZ_void_sample['radius_intersect'] = np.sqrt(dr7LOWZ_void_sample['radius']**2 \n",
    "#                                                  - (np.sin(np.abs(slice_ - dr7LOWZ_void_sample['dec'])*np.pi/180)*dr7LOWZ_void_sample['r'])**2)"
   ]
  },
  {
   "cell_type": "code",
   "execution_count": null,
   "metadata": {},
   "outputs": [],
   "source": [
    "min(quasars['ra'])"
   ]
  },
  {
   "cell_type": "code",
   "execution_count": null,
   "metadata": {},
   "outputs": [],
   "source": [
    "fig = plt.figure(figsize=(15,10))\n",
    "\n",
    "# Range of ra to use in plot\n",
    "ra_min, ra_max = -45, 45\n",
    "\n",
    "ax, aux_ax = setup_axes3(fig, 111, ra_min, ra_max, cz_min, cz_max)\n",
    "\n",
    "\n",
    "# Original DR7 galaxies\n",
    "aux_ax.plot(deltaf_sample['ra'], deltaf_sample['r'], \n",
    "            '.', c='grey', alpha=0.5, ms=3, zorder=2, label='Delta fields')\n",
    "\n",
    "# Volume-limited DR7 galaxies\n",
    "#aux_ax.plot(vollim_dr7_sample['ra'], vollim_dr7_sample['cz'], \n",
    "#            '.', c='g', zorder=2, label='Volume-limited DR7')\n",
    "\n",
    "# Downsampled DR7 galaxies\n",
    "#aux_ax.plot(dr7LOWZ_sample['ra'], dr7LOWZ_sample['cz'], \n",
    "#            '.', c='m', zorder=3, label='DR7 LOWZ')\n",
    "\n",
    "# Original voids\n",
    "aux_ax.scatter(void_sample['ra'], void_sample['r'], \n",
    "               s=void_sample['radius_intersect']*100, \n",
    "               edgecolors='none', facecolors='b', alpha=0.1, \n",
    "               zorder=1, label='Voids')\n",
    "\n",
    "aux_ax.plot(quasars['ra'], \n",
    "            quasars['r'], \n",
    "            '.', c=(1,135/255,123/255), ms=3, zorder=3, label='Quasars')\n",
    "# Downsampled voids\n",
    "#aux_ax.scatter(dr7LOWZ_void_sample['ra'], dr7LOWZ_void_sample['r']*100, \n",
    "#               s=dr7LOWZ_void_sample['radius_intersect']*100, \n",
    "#               edgecolors='none', facecolors='tab:orange', alpha=0.1, \n",
    "#               zorder=5, label='DR7 LOWZ voids')\n",
    "\n",
    "ax.legend(bbox_to_anchor=(1.1, 1.05),loc='lower center')\n",
    "\n",
    "mpl.rc('font', size=10)\n",
    "plt.title('All holes void map with comoving distance metric and DEC$\\in$['+str(d)+','+str(d+s)+']')\n",
    "plt.tight_layout();"
   ]
  },
  {
   "cell_type": "markdown",
   "metadata": {},
   "source": [
    "## Thinner slice"
   ]
  },
  {
   "cell_type": "code",
   "execution_count": null,
   "metadata": {},
   "outputs": [],
   "source": [
    "# 'd' is declination and 's' is the thickness of the declination slice\n",
    "# Vary 'd' and 's' to get different slices\n",
    "d,s = 0, 0.05 #s=2.5\n",
    "\n",
    "# slice center, can use this for analysis since the slice thickness is very small\n",
    "slice_ = d + 0.5*s"
   ]
  },
  {
   "cell_type": "code",
   "execution_count": null,
   "metadata": {},
   "outputs": [],
   "source": [
    "deltaf_dec_cut = np.logical_and(deltaf_galaxies['dec'] > d, \n",
    "                             deltaf_galaxies['dec'] <= d + s)\n",
    "\n",
    "#dr7LOWZ_dec_cut = np.logical_and(dr7LOWZ_galaxies['dec'] > d, \n",
    "#                                 dr7LOWZ_galaxies['dec'] <= d + s)\n",
    "#\n",
    "#vollim_dr7_dec_cut = np.logical_and(vollim_dr7_galaxies['dec'] > d, \n",
    "#                                    vollim_dr7_galaxies['dec'] <= d + s)\n",
    "#\n",
    "deltaf_dec_slice = deltaf[deltaf_dec_cut]\n",
    "#dr7LOWZ_dec_slice = dr7LOWZ_galaxies[dr7LOWZ_dec_cut]\n",
    "#vollim_dr7_dec_slice = vollim_dr7_galaxies[vollim_dr7_dec_cut]\n",
    "#\n",
    "quasars_dec_cut = np.logical_and(quasars['dec'] > d, \n",
    "                             quasars['dec'] <= d + s)\n",
    "\n",
    "quasars_slice = quasars[quasars_dec_cut]"
   ]
  },
  {
   "cell_type": "code",
   "execution_count": null,
   "metadata": {},
   "outputs": [],
   "source": [
    "cz_min, cz_max = min(deltaf['r']), max(quasars['r']) #32700\n",
    "\n",
    "deltaf_dist_boolean = np.logical_and(deltaf_dec_slice['r'] > cz_min, \n",
    "                                     deltaf_dec_slice['r'] <= cz_max)\n",
    "\n",
    "#dr7LOWZ_dist_boolean = np.logical_and(dr7LOWZ_dec_slice['cz'] > cz_min, \n",
    "#                                      dr7LOWZ_dec_slice['cz'] <= cz_max)\n",
    "#\n",
    "#vollim_dr7_dist_boolean = np.logical_and(vollim_dr7_dec_slice['cz'] > cz_min, \n",
    "#                                         vollim_dr7_dec_slice['cz'] <= cz_max)\n",
    "#\n",
    "deltaf_sample = deltaf_dec_slice[deltaf_dist_boolean]\n",
    "#dr7LOWZ_sample = dr7LOWZ_dec_slice[dr7LOWZ_dist_boolean]\n",
    "#vollim_dr7_sample = vollim_dr7_dec_slice[vollim_dr7_dist_boolean]\n"
   ]
  },
  {
   "cell_type": "code",
   "execution_count": null,
   "metadata": {},
   "outputs": [],
   "source": [
    "deltaf_dec_intersect_cut = np.sin(np.abs(slice_ - voids['dec'])*np.pi/180)*voids['r'] <= voids['radius']\n",
    "#dr7LOWZ_dec_intersect_cut = np.sin(np.abs(slice_ - dr7LOWZ_voids['dec'])*np.pi/180)*dr7LOWZ_voids['r'] <= dr7LOWZ_voids['radius']\n",
    "\n",
    "void_sample = voids[deltaf_dec_intersect_cut]\n",
    "#dr7LOWZ_void_sample = dr7LOWZ_voids[dr7LOWZ_dec_intersect_cut]\n",
    "\n",
    "# Radius of void at intersection\n",
    "void_sample['radius_intersect'] = np.sqrt(void_sample['radius']**2 \n",
    "                                              - (np.sin(np.abs(slice_ - void_sample['dec'])*np.pi/180)*void_sample['r'])**2)\n",
    "\n",
    "#dr7LOWZ_void_sample['radius_intersect'] = np.sqrt(dr7LOWZ_void_sample['radius']**2 \n",
    "#                                                  - (np.sin(np.abs(slice_ - dr7LOWZ_void_sample['dec'])*np.pi/180)*dr7LOWZ_void_sample['r'])**2)"
   ]
  },
  {
   "cell_type": "code",
   "execution_count": null,
   "metadata": {},
   "outputs": [],
   "source": [
    "dpi=500\n",
    "mpl.rcParams['figure.dpi']= dpi\n",
    "fig = plt.figure(figsize=(15,10))\n",
    "\n",
    "# Range of ra to use in plot\n",
    "ra_min, ra_max = -45, 45\n",
    "\n",
    "ax, aux_ax = setup_axes3(fig, 111, ra_min, ra_max, cz_min, cz_max)\n",
    "\n",
    "\n",
    "# Original DR7 galaxies\n",
    "aux_ax.plot(deltaf_sample['ra'], deltaf_sample['r'], \n",
    "            '.', c='grey', alpha=0.5, ms=3, zorder=2, label='Delta fields')\n",
    "\n",
    "# Volume-limited DR7 galaxies\n",
    "#aux_ax.plot(vollim_dr7_sample['ra'], vollim_dr7_sample['cz'], \n",
    "#            '.', c='g', zorder=2, label='Volume-limited DR7')\n",
    "\n",
    "# Downsampled DR7 galaxies\n",
    "#aux_ax.plot(dr7LOWZ_sample['ra'], dr7LOWZ_sample['cz'], \n",
    "#            '.', c='m', zorder=3, label='DR7 LOWZ')\n",
    "\n",
    "# Original voids\n",
    "aux_ax.scatter(void_sample['ra'], void_sample['r'], \n",
    "               s=void_sample['radius_intersect']*100, \n",
    "               edgecolors='none', facecolors='b', alpha=0.1, \n",
    "               zorder=1, label='Voids')\n",
    "\n",
    "aux_ax.plot(quasars['ra'], \n",
    "            quasars['r'], \n",
    "            '.', c=(1,135/255,123/255), ms=3, zorder=3, label='Quasars')\n",
    "# Downsampled voids\n",
    "#aux_ax.scatter(dr7LOWZ_void_sample['ra'], dr7LOWZ_void_sample['r']*100, \n",
    "#               s=dr7LOWZ_void_sample['radius_intersect']*100, \n",
    "#               edgecolors='none', facecolors='tab:orange', alpha=0.1, \n",
    "#               zorder=5, label='DR7 LOWZ voids')\n",
    "\n",
    "ax.legend(bbox_to_anchor=(1.1, 1.05),loc='lower center')\n",
    "\n",
    "mpl.rc('font', size=10)\n",
    "plt.title('All holes void map with comoving distance metric and DEC$\\in$['+str(d)+','+str(d+s)+']')\n",
    "plt.tight_layout();"
   ]
  },
  {
   "cell_type": "code",
   "execution_count": null,
   "metadata": {},
   "outputs": [],
   "source": [
    "dpi=500\n",
    "mpl.rcParams['figure.dpi']= dpi\n",
    "fig = plt.figure(figsize=(15,8))\n",
    "\n",
    "# Range of RA to use in plot\n",
    "ra_min, ra_max = -5, 5\n",
    "\n",
    "fig = plt.figure(figsize=(15,10))\n",
    "\n",
    "ax, aux_ax = setup_axes3(fig, 111, ra_min, ra_max, cz_min, cz_max)\n",
    "\n",
    "\n",
    "# Original DR7 galaxies\n",
    "aux_ax.plot(deltaf_sample['ra'], deltaf_sample['r'], \n",
    "            '.', c='grey', alpha=0.5, ms=3, zorder=2, label='Delta fields')\n",
    "\n",
    "# Volume-limited DR7 galaxies\n",
    "#aux_ax.plot(vollim_dr7_sample['ra'], vollim_dr7_sample['cz'], \n",
    "#            '.', c='g', zorder=2, label='Volume-limited DR7')\n",
    "\n",
    "# Downsampled DR7 galaxies\n",
    "#aux_ax.plot(dr7LOWZ_sample['ra'], dr7LOWZ_sample['cz'], \n",
    "#            '.', c='m', zorder=3, label='DR7 LOWZ')\n",
    "\n",
    "# Original voids\n",
    "aux_ax.scatter(void_sample['ra'], void_sample['r'], \n",
    "               s=void_sample['radius_intersect']*100, \n",
    "               edgecolors='none', facecolors='b', alpha=0.1, \n",
    "               zorder=1, label='Voids')\n",
    "\n",
    "aux_ax.plot(quasars['ra'], \n",
    "            quasars['r'], \n",
    "            '.', c=(1,135/255,123/255), ms=3, zorder=3, label='Quasars')\n",
    "# Downsampled voids\n",
    "#aux_ax.scatter(dr7LOWZ_void_sample['ra'], dr7LOWZ_void_sample['r']*100, \n",
    "#               s=dr7LOWZ_void_sample['radius_intersect']*100, \n",
    "#               edgecolors='none', facecolors='tab:orange', alpha=0.1, \n",
    "#               zorder=5, label='DR7 LOWZ voids')\n",
    "\n",
    "ax.legend(bbox_to_anchor=(1.1, 1.05),loc='lower center')\n",
    "\n",
    "mpl.rc('font', size=10)\n",
    "plt.title('All holes void map with comoving distance metric and DEC$\\in$['+str(d)+','+str(d+s)+']')\n",
    "plt.tight_layout();"
   ]
  },
  {
   "cell_type": "code",
   "execution_count": null,
   "metadata": {},
   "outputs": [],
   "source": []
  },
  {
   "cell_type": "code",
   "execution_count": null,
   "metadata": {},
   "outputs": [],
   "source": []
  },
  {
   "cell_type": "code",
   "execution_count": null,
   "metadata": {},
   "outputs": [],
   "source": []
  },
  {
   "cell_type": "code",
   "execution_count": null,
   "metadata": {},
   "outputs": [],
   "source": []
  },
  {
   "cell_type": "code",
   "execution_count": null,
   "metadata": {},
   "outputs": [],
   "source": []
  }
 ],
 "metadata": {
  "kernelspec": {
   "display_name": "Python 3 (3.7.1)",
   "language": "python",
   "name": "python3-3.7.1"
  },
  "language_info": {
   "codemirror_mode": {
    "name": "ipython",
    "version": 3
   },
   "file_extension": ".py",
   "mimetype": "text/x-python",
   "name": "python",
   "nbconvert_exporter": "python",
   "pygments_lexer": "ipython3",
   "version": "3.7.1"
  }
 },
 "nbformat": 4,
 "nbformat_minor": 4
}
