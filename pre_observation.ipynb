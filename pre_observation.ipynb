{
 "cells": [
  {
   "cell_type": "markdown",
   "metadata": {},
   "source": [
    "# Observation Plan"
   ]
  },
  {
   "cell_type": "code",
   "execution_count": 2,
   "metadata": {},
   "outputs": [],
   "source": [
    "import os\n",
    "import numpy as np"
   ]
  },
  {
   "cell_type": "markdown",
   "metadata": {},
   "source": [
    "## M53 (NGC5024)\n",
    "### calibration star = Arcturus"
   ]
  },
  {
   "cell_type": "code",
   "execution_count": 3,
   "metadata": {},
   "outputs": [],
   "source": [
    "# M53 (NGC5024)\n",
    "# calibration star = Arcturus\n",
    "#mag= 8.33 #apparent magnitude"
   ]
  },
  {
   "cell_type": "code",
   "execution_count": 4,
   "metadata": {},
   "outputs": [],
   "source": [
    "#Telescope related\n",
    "area= 2700 #collecting area, cm^2\n",
    "omega_pixel=0.224**2 #(arcsec^2)\n",
    "\n",
    "seeing= 2 #seeing, blurring solid angle arcsec\n",
    "\n",
    "tau=0.96\n",
    "eta=0.6 #response of our CCD\n",
    "lambda_v=5000 #A\n",
    "lambda_v_cm=5000*10**(-8) #cm\n",
    "\n",
    "h=6.6260755*10**(-27) #ergs\n",
    "c=2.99792458*10**10 #cm/s\n",
    "\n",
    "hc_m=1.98644586*10**(-25) #Js\n",
    "\n",
    "q_e=1.602176634*10**(-19) #C"
   ]
  },
  {
   "cell_type": "code",
   "execution_count": 5,
   "metadata": {},
   "outputs": [],
   "source": [
    "#Filter related\n",
    "#G\n",
    "lambda_min=5010 #A\n",
    "lambda_max=5900 #A\n",
    "\n",
    "lambda_0=(lambda_min+lambda_max)/2 #center wavelength (A)\n",
    "lambda_0_cm =lambda_0*10**(-8) #cm\n",
    "\n",
    "del_lambda=lambda_max-lambda_min #bandwidth (A)\n",
    "del_lambda_u=del_lambda*10**(-4) #micrometers\n",
    "\n",
    "F_lambda=3.92*10**(-12) #Wcm^-2µm^-1"
   ]
  },
  {
   "cell_type": "code",
   "execution_count": 6,
   "metadata": {},
   "outputs": [
    {
     "data": {
      "text/plain": [
       "62.61146073002617"
      ]
     },
     "execution_count": 6,
     "metadata": {},
     "output_type": "execute_result"
    }
   ],
   "source": [
    "#Calculate N (number of pixels)\n",
    "\n",
    "omega_seeing=np.pi*(seeing/2)**2\n",
    "N=omega_seeing/omega_pixel#number of pixels\n",
    "N"
   ]
  },
  {
   "cell_type": "code",
   "execution_count": 7,
   "metadata": {},
   "outputs": [
    {
     "data": {
      "text/plain": [
       "9.419760000000001e-14"
      ]
     },
     "execution_count": 7,
     "metadata": {},
     "output_type": "execute_result"
    }
   ],
   "source": [
    "# Power of the star that we are looking for\n",
    "\n",
    "mag=10\n",
    "\n",
    "F_0=F_lambda*del_lambda_u #Wcm^-2\n",
    "F=F_0*10**(-mag/2.5) #Wcm^-2\n",
    "P_s=F*area #watt\n",
    "P_s_cgs=P_s*10**7 #cgs\n",
    "P_s"
   ]
  },
  {
   "cell_type": "code",
   "execution_count": 8,
   "metadata": {},
   "outputs": [
    {
     "data": {
      "text/plain": [
       "528827.0277624996"
      ]
     },
     "execution_count": 8,
     "metadata": {},
     "output_type": "execute_result"
    }
   ],
   "source": [
    "#Calculate n (number of electrons) --> number of data points\n",
    "\n",
    "del_t=300 #s , picked\n",
    "\n",
    "n=tau*eta*lambda_0_cm*P_s_cgs*del_t/(N*h*c)\n",
    "DN=n/1.35\n",
    "DN"
   ]
  },
  {
   "cell_type": "code",
   "execution_count": 9,
   "metadata": {},
   "outputs": [
    {
     "data": {
      "text/plain": [
       "528827.4539872915"
      ]
     },
     "execution_count": 9,
     "metadata": {},
     "output_type": "execute_result"
    }
   ],
   "source": [
    "#Calculate n (number of electrons) --> number of data points\n",
    "\n",
    "del_t=300 #s , picked\n",
    "\n",
    "n=tau*eta*lambda_0*10**(-10)*P_s*del_t/(N*hc_m)\n",
    "DN=n/1.35\n",
    "DN"
   ]
  },
  {
   "cell_type": "code",
   "execution_count": 10,
   "metadata": {},
   "outputs": [],
   "source": [
    "DN=DN/10\n",
    "n=n/10"
   ]
  },
  {
   "cell_type": "code",
   "execution_count": 11,
   "metadata": {},
   "outputs": [
    {
     "data": {
      "text/plain": [
       "3.523705047688709"
      ]
     },
     "execution_count": 11,
     "metadata": {},
     "output_type": "execute_result"
    }
   ],
   "source": [
    "del_t=600\n",
    "I_B_rms=q_e*np.sqrt(N*n)/del_t\n",
    "I_B_rms/q_e"
   ]
  },
  {
   "cell_type": "code",
   "execution_count": 12,
   "metadata": {},
   "outputs": [
    {
     "data": {
      "text/plain": [
       "-1.1138559972760623e-29"
      ]
     },
     "execution_count": 12,
     "metadata": {},
     "output_type": "execute_result"
    }
   ],
   "source": [
    "P_s5=5*hc_m*I_B_rms/(tau*eta*q_e*lambda_0*10*(-10))\n",
    "P_s5"
   ]
  },
  {
   "cell_type": "code",
   "execution_count": 13,
   "metadata": {},
   "outputs": [],
   "source": [
    "lim_mag=24\n",
    "P_G_mag=F_lambda*area*del_lambda_u*10**(-lim_mag/2.5)"
   ]
  },
  {
   "cell_type": "code",
   "execution_count": 14,
   "metadata": {},
   "outputs": [
    {
     "data": {
      "text/plain": [
       "-4.7074878710244923e-11"
      ]
     },
     "execution_count": 14,
     "metadata": {},
     "output_type": "execute_result"
    }
   ],
   "source": [
    "f=P_s5/P_G_mag\n",
    "f"
   ]
  },
  {
   "cell_type": "code",
   "execution_count": null,
   "metadata": {},
   "outputs": [],
   "source": []
  },
  {
   "cell_type": "code",
   "execution_count": null,
   "metadata": {},
   "outputs": [],
   "source": []
  },
  {
   "cell_type": "code",
   "execution_count": null,
   "metadata": {},
   "outputs": [],
   "source": [
    "#calculation 1\n",
    "\n",
    "F_0=F_lambda*del_lambda_u #Wcm^-2\n",
    "F=F_0*10**(-mag/2.5) #Wcm^-2\n",
    "P_s=F*area #watt\n",
    "P_s=P_s*10**7 #cgs"
   ]
  },
  {
   "cell_type": "code",
   "execution_count": null,
   "metadata": {},
   "outputs": [],
   "source": [
    "#calculation 2\n",
    "\n",
    "omega_seeing=np.pi*(blur/2)**2\n",
    "N=omega_seeing/omega_pixel#number of pixels\n"
   ]
  },
  {
   "cell_type": "code",
   "execution_count": null,
   "metadata": {},
   "outputs": [],
   "source": [
    "#calculation 3\n",
    "\n",
    "del_t=1\n",
    "\n",
    "I_s=tau*eta*lambda_0*P_s*q_e/(h*c)\n",
    "Q_s=I_s*del_t\n",
    "n=Q_s/(N*q_e)\n",
    "DN=n/1.35\n",
    "DN"
   ]
  },
  {
   "cell_type": "code",
   "execution_count": null,
   "metadata": {},
   "outputs": [],
   "source": [
    "#SNR source\n",
    "SNR_s=10\n",
    "del_t_s=SNR_s**2*h*c/(lambda_v_cm*tau*eta*P_s)\n",
    "del_t_s"
   ]
  },
  {
   "cell_type": "code",
   "execution_count": null,
   "metadata": {},
   "outputs": [],
   "source": [
    "#SNR background\n",
    "SNR_b=10\n",
    "del_t_b=(SNR_b/P_s)**2 *h*c*P_B/(lambda_v*tau*eta)\n",
    "del_t_b"
   ]
  },
  {
   "cell_type": "code",
   "execution_count": null,
   "metadata": {},
   "outputs": [],
   "source": [
    "#SNR dark current\n",
    "SNR_d=10\n",
    "(SNR_d*h*c/(lambda_v*tau*eta*P_s))**2*(I_D/q_e)"
   ]
  },
  {
   "cell_type": "code",
   "execution_count": null,
   "metadata": {},
   "outputs": [],
   "source": [
    "#Limiting magnitude\n",
    "mag_lim=23\n",
    "\n",
    "F_0=F_lambda*del_lambda_u #Wcm^-2\n",
    "F=F_0*10**(-mag_lim/2.5) #Wcm^-2\n",
    "P_s=F*area #watt\n",
    "P_s=P_s*10**7\n",
    "\n",
    "I_B_rms=q_e*np.sqrt(N*n)/del_t\n",
    "I_B_rms"
   ]
  },
  {
   "cell_type": "code",
   "execution_count": null,
   "metadata": {},
   "outputs": [],
   "source": []
  },
  {
   "cell_type": "code",
   "execution_count": null,
   "metadata": {},
   "outputs": [],
   "source": []
  },
  {
   "cell_type": "code",
   "execution_count": null,
   "metadata": {},
   "outputs": [],
   "source": []
  },
  {
   "cell_type": "code",
   "execution_count": null,
   "metadata": {},
   "outputs": [],
   "source": []
  },
  {
   "cell_type": "code",
   "execution_count": null,
   "metadata": {},
   "outputs": [],
   "source": []
  },
  {
   "cell_type": "code",
   "execution_count": null,
   "metadata": {},
   "outputs": [],
   "source": []
  },
  {
   "cell_type": "code",
   "execution_count": null,
   "metadata": {},
   "outputs": [],
   "source": []
  },
  {
   "cell_type": "code",
   "execution_count": null,
   "metadata": {},
   "outputs": [],
   "source": []
  },
  {
   "cell_type": "code",
   "execution_count": null,
   "metadata": {},
   "outputs": [],
   "source": []
  },
  {
   "cell_type": "code",
   "execution_count": null,
   "metadata": {},
   "outputs": [],
   "source": []
  },
  {
   "cell_type": "code",
   "execution_count": null,
   "metadata": {},
   "outputs": [],
   "source": []
  },
  {
   "cell_type": "code",
   "execution_count": null,
   "metadata": {},
   "outputs": [],
   "source": []
  },
  {
   "cell_type": "code",
   "execution_count": null,
   "metadata": {},
   "outputs": [],
   "source": []
  },
  {
   "cell_type": "code",
   "execution_count": null,
   "metadata": {},
   "outputs": [],
   "source": []
  },
  {
   "cell_type": "code",
   "execution_count": null,
   "metadata": {},
   "outputs": [],
   "source": []
  }
 ],
 "metadata": {
  "kernelspec": {
   "display_name": "Python 3 (3.7.1)",
   "language": "python",
   "name": "python3-3.7.1"
  },
  "language_info": {
   "codemirror_mode": {
    "name": "ipython",
    "version": 3
   },
   "file_extension": ".py",
   "mimetype": "text/x-python",
   "name": "python",
   "nbconvert_exporter": "python",
   "pygments_lexer": "ipython3",
   "version": "3.7.1"
  }
 },
 "nbformat": 4,
 "nbformat_minor": 2
}
