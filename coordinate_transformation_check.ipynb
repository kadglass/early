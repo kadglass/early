{
 "cells": [
  {
   "cell_type": "code",
   "execution_count": 1,
   "metadata": {},
   "outputs": [],
   "source": [
    "import numpy as np\n",
    "\n",
    "import matplotlib as mpl\n",
    "import matplotlib.pyplot as plt\n",
    "import mpl_toolkits.axisartist.floating_axes as floating_axes\n",
    "import mpl_toolkits.axisartist.angle_helper as angle_helper\n",
    "from mpl_toolkits.axisartist.grid_finder import MaxNLocator\n",
    "from matplotlib.transforms import Affine2D\n",
    "from scipy.integrate import quad as quad\n",
    "import sys\n",
    "sys.path.insert(0, \"/scratch/ierez/IGMCosmo/VoidFinder/python/\")\n",
    "#import voidfinder\n",
    "#from voidfinder import distance\n",
    "#from voidfinder.distance import z_to_comoving_dist\n",
    "from astropy import constants as const\n",
    "from astropy.table import Table\n",
    "import scipy.integrate\n",
    "\n",
    "import os\n",
    "from astropy.io import fits\n",
    "in_directory='/scratch/ierez/IGMCosmo/VoidFinder/outputs/check/'\n",
    "os.chdir(in_directory)"
   ]
  },
  {
   "cell_type": "code",
   "execution_count": 2,
   "metadata": {},
   "outputs": [],
   "source": [
    "deltas_filename = '/scratch/sbenzvi_lab/boss/dr16/delta_fields/deltafields_RAadded90.fits' #delta_fields\n",
    "quasars_filename='/scratch/sbenzvi_lab/boss/dr16/delta_fields/quasars.fits'"
   ]
  },
  {
   "cell_type": "code",
   "execution_count": 3,
   "metadata": {},
   "outputs": [],
   "source": [
    "deltas = fits.open(deltas_filename)  \n",
    "deltas=Table(deltas[1].data)"
   ]
  },
  {
   "cell_type": "code",
   "execution_count": 4,
   "metadata": {},
   "outputs": [],
   "source": [
    "quasars = fits.open(quasars_filename)  \n",
    "quasars=Table(quasars[1].data)"
   ]
  },
  {
   "cell_type": "code",
   "execution_count": 5,
   "metadata": {},
   "outputs": [
    {
     "data": {
      "text/html": [
       "<i>Table length=5</i>\n",
       "<table id=\"table47004514571880\" class=\"table-striped table-bordered table-condensed\">\n",
       "<thead><tr><th>ra</th><th>dec</th><th>z</th><th>delta</th></tr></thead>\n",
       "<thead><tr><th>float64</th><th>float64</th><th>float64</th><th>float64</th></tr></thead>\n",
       "<tr><td>55.09803355164553</td><td>-1.159330826846483</td><td>3.08463316655781</td><td>-2.6700565094875603</td></tr>\n",
       "<tr><td>55.09803355164553</td><td>-1.159330826846483</td><td>3.0855737963916345</td><td>-1.4396249644115322</td></tr>\n",
       "<tr><td>55.09803355164553</td><td>-1.159330826846483</td><td>3.0865146428384156</td><td>-0.45740696573626016</td></tr>\n",
       "<tr><td>55.09803355164553</td><td>-1.159330826846483</td><td>3.087455705948044</td><td>4.137706831117744</td></tr>\n",
       "<tr><td>55.09803355164553</td><td>-1.159330826846483</td><td>3.0883969857704057</td><td>1.155314062862347</td></tr>\n",
       "</table>"
      ],
      "text/plain": [
       "<Table length=5>\n",
       "        ra               dec                 z                 delta        \n",
       "     float64           float64            float64             float64       \n",
       "----------------- ------------------ ------------------ --------------------\n",
       "55.09803355164553 -1.159330826846483   3.08463316655781  -2.6700565094875603\n",
       "55.09803355164553 -1.159330826846483 3.0855737963916345  -1.4396249644115322\n",
       "55.09803355164553 -1.159330826846483 3.0865146428384156 -0.45740696573626016\n",
       "55.09803355164553 -1.159330826846483  3.087455705948044    4.137706831117744\n",
       "55.09803355164553 -1.159330826846483 3.0883969857704057    1.155314062862347"
      ]
     },
     "execution_count": 5,
     "metadata": {},
     "output_type": "execute_result"
    }
   ],
   "source": [
    "deltas[0:5]"
   ]
  },
  {
   "cell_type": "code",
   "execution_count": 6,
   "metadata": {},
   "outputs": [
    {
     "data": {
      "text/html": [
       "<i>Table length=5</i>\n",
       "<table id=\"table47005176790152\" class=\"table-striped table-bordered table-condensed\">\n",
       "<thead><tr><th>ra</th><th>dec</th><th>z</th></tr></thead>\n",
       "<thead><tr><th>float64</th><th>float64</th><th>float64</th></tr></thead>\n",
       "<tr><td>-34.90196644835447</td><td>-1.159330826846483</td><td>3.774</td></tr>\n",
       "<tr><td>-34.692674572422334</td><td>-1.0531637172445856</td><td>3.446</td></tr>\n",
       "<tr><td>-34.60865459248191</td><td>-0.8345530857219153</td><td>2.75148963928223</td></tr>\n",
       "<tr><td>-34.472523569472685</td><td>-0.9748963978803513</td><td>2.704</td></tr>\n",
       "<tr><td>-34.444164549902894</td><td>-1.142452301903663</td><td>2.341</td></tr>\n",
       "</table>"
      ],
      "text/plain": [
       "<Table length=5>\n",
       "         ra                 dec                z        \n",
       "      float64             float64           float64     \n",
       "------------------- ------------------- ----------------\n",
       " -34.90196644835447  -1.159330826846483            3.774\n",
       "-34.692674572422334 -1.0531637172445856            3.446\n",
       " -34.60865459248191 -0.8345530857219153 2.75148963928223\n",
       "-34.472523569472685 -0.9748963978803513            2.704\n",
       "-34.444164549902894  -1.142452301903663            2.341"
      ]
     },
     "execution_count": 6,
     "metadata": {},
     "output_type": "execute_result"
    }
   ],
   "source": [
    "quasars[0:5]"
   ]
  },
  {
   "cell_type": "code",
   "execution_count": 7,
   "metadata": {},
   "outputs": [
    {
     "data": {
      "text/plain": [
       "4418157"
      ]
     },
     "execution_count": 7,
     "metadata": {},
     "output_type": "execute_result"
    }
   ],
   "source": [
    "len(deltas)"
   ]
  },
  {
   "cell_type": "code",
   "execution_count": 8,
   "metadata": {},
   "outputs": [
    {
     "data": {
      "text/plain": [
       "9666"
      ]
     },
     "execution_count": 8,
     "metadata": {},
     "output_type": "execute_result"
    }
   ],
   "source": [
    "len(quasars)"
   ]
  },
  {
   "cell_type": "code",
   "execution_count": 9,
   "metadata": {},
   "outputs": [
    {
     "data": {
      "text/plain": [
       "134.9965881299792"
      ]
     },
     "execution_count": 9,
     "metadata": {},
     "output_type": "execute_result"
    }
   ],
   "source": [
    "max(deltas['ra'])"
   ]
  },
  {
   "cell_type": "code",
   "execution_count": 10,
   "metadata": {},
   "outputs": [
    {
     "data": {
      "text/plain": [
       "134.9965881299792"
      ]
     },
     "execution_count": 10,
     "metadata": {},
     "output_type": "execute_result"
    }
   ],
   "source": [
    "max(quasars['ra'])+90"
   ]
  },
  {
   "cell_type": "code",
   "execution_count": 11,
   "metadata": {},
   "outputs": [],
   "source": [
    "deltas['ra']=deltas['ra']-90"
   ]
  },
  {
   "cell_type": "code",
   "execution_count": 12,
   "metadata": {},
   "outputs": [
    {
     "data": {
      "text/plain": [
       "1.2497438186982022"
      ]
     },
     "execution_count": 12,
     "metadata": {},
     "output_type": "execute_result"
    }
   ],
   "source": [
    "max(deltas['dec'])"
   ]
  },
  {
   "cell_type": "code",
   "execution_count": 13,
   "metadata": {},
   "outputs": [
    {
     "data": {
      "text/plain": [
       "1.2497438186982022"
      ]
     },
     "execution_count": 13,
     "metadata": {},
     "output_type": "execute_result"
    }
   ],
   "source": [
    "max(quasars['dec'])"
   ]
  },
  {
   "cell_type": "code",
   "execution_count": 14,
   "metadata": {},
   "outputs": [
    {
     "data": {
      "text/html": [
       "<i>Table length=1</i>\n",
       "<table id=\"table47004514572440\" class=\"table-striped table-bordered table-condensed\">\n",
       "<thead><tr><th>ra</th><th>dec</th><th>z</th><th>delta</th></tr></thead>\n",
       "<thead><tr><th>float64</th><th>float64</th><th>float64</th><th>float64</th></tr></thead>\n",
       "<tr><td>-34.90196644835447</td><td>-1.159330826846483</td><td>3.08463316655781</td><td>-2.6700565094875603</td></tr>\n",
       "</table>"
      ],
      "text/plain": [
       "<Table length=1>\n",
       "        ra                dec                z                delta       \n",
       "     float64            float64           float64            float64      \n",
       "------------------ ------------------ ---------------- -------------------\n",
       "-34.90196644835447 -1.159330826846483 3.08463316655781 -2.6700565094875603"
      ]
     },
     "execution_count": 14,
     "metadata": {},
     "output_type": "execute_result"
    }
   ],
   "source": [
    "corner_data=deltas[deltas['ra']==quasars[0]['ra']] \n",
    "min(corner_data['z'])\n",
    "corner_data[corner_data['z']==min(corner_data['z'])]"
   ]
  },
  {
   "cell_type": "code",
   "execution_count": 15,
   "metadata": {},
   "outputs": [],
   "source": [
    "#corners=Table\n",
    "corners=Table(corner_data[corner_data['z']==min(corner_data['z'])][0])"
   ]
  },
  {
   "cell_type": "code",
   "execution_count": 16,
   "metadata": {},
   "outputs": [
    {
     "data": {
      "text/html": [
       "<i>Table length=1</i>\n",
       "<table id=\"table47005217213184\" class=\"table-striped table-bordered table-condensed\">\n",
       "<thead><tr><th>ra</th><th>dec</th><th>z</th><th>delta</th></tr></thead>\n",
       "<thead><tr><th>float64</th><th>float64</th><th>float64</th><th>float64</th></tr></thead>\n",
       "<tr><td>-34.90196644835447</td><td>-1.159330826846483</td><td>3.08463316655781</td><td>-2.6700565094875603</td></tr>\n",
       "</table>"
      ],
      "text/plain": [
       "<Table length=1>\n",
       "        ra                dec                z                delta       \n",
       "     float64            float64           float64            float64      \n",
       "------------------ ------------------ ---------------- -------------------\n",
       "-34.90196644835447 -1.159330826846483 3.08463316655781 -2.6700565094875603"
      ]
     },
     "execution_count": 16,
     "metadata": {},
     "output_type": "execute_result"
    }
   ],
   "source": [
    "corners"
   ]
  },
  {
   "cell_type": "code",
   "execution_count": 17,
   "metadata": {},
   "outputs": [
    {
     "data": {
      "text/html": [
       "<i>Row index=0</i>\n",
       "<table id=\"table47005217210608\">\n",
       "<thead><tr><th>ra</th><th>dec</th><th>z</th><th>delta</th></tr></thead>\n",
       "<thead><tr><th>float64</th><th>float64</th><th>float64</th><th>float64</th></tr></thead>\n",
       "<tr><td>-34.90196644835447</td><td>-1.159330826846483</td><td>3.523275700157328</td><td>-1.503065938602433</td></tr>\n",
       "</table>"
      ],
      "text/plain": [
       "<Row index=0>\n",
       "        ra                dec                 z               delta       \n",
       "     float64            float64            float64           float64      \n",
       "------------------ ------------------ ----------------- ------------------\n",
       "-34.90196644835447 -1.159330826846483 3.523275700157328 -1.503065938602433"
      ]
     },
     "execution_count": 17,
     "metadata": {},
     "output_type": "execute_result"
    }
   ],
   "source": [
    "corner_data[corner_data['z']==max(corner_data['z'])][0]"
   ]
  },
  {
   "cell_type": "code",
   "execution_count": 18,
   "metadata": {},
   "outputs": [],
   "source": [
    "corners.add_row(corner_data[corner_data['z']==max(corner_data['z'])][0])"
   ]
  },
  {
   "cell_type": "code",
   "execution_count": 19,
   "metadata": {},
   "outputs": [
    {
     "data": {
      "text/html": [
       "<i>Table length=2</i>\n",
       "<table id=\"table47005217213184\" class=\"table-striped table-bordered table-condensed\">\n",
       "<thead><tr><th>ra</th><th>dec</th><th>z</th><th>delta</th></tr></thead>\n",
       "<thead><tr><th>float64</th><th>float64</th><th>float64</th><th>float64</th></tr></thead>\n",
       "<tr><td>-34.90196644835447</td><td>-1.159330826846483</td><td>3.08463316655781</td><td>-2.6700565094875603</td></tr>\n",
       "<tr><td>-34.90196644835447</td><td>-1.159330826846483</td><td>3.523275700157328</td><td>-1.503065938602433</td></tr>\n",
       "</table>"
      ],
      "text/plain": [
       "<Table length=2>\n",
       "        ra                dec                 z                delta       \n",
       "     float64            float64            float64            float64      \n",
       "------------------ ------------------ ----------------- -------------------\n",
       "-34.90196644835447 -1.159330826846483  3.08463316655781 -2.6700565094875603\n",
       "-34.90196644835447 -1.159330826846483 3.523275700157328  -1.503065938602433"
      ]
     },
     "execution_count": 19,
     "metadata": {},
     "output_type": "execute_result"
    }
   ],
   "source": [
    "corners"
   ]
  },
  {
   "cell_type": "code",
   "execution_count": 20,
   "metadata": {},
   "outputs": [],
   "source": [
    "corner_data=deltas[deltas['ra']==quasars[1]['ra']] "
   ]
  },
  {
   "cell_type": "code",
   "execution_count": 21,
   "metadata": {},
   "outputs": [],
   "source": [
    "corners.add_row(corner_data[corner_data['z']==min(corner_data['z'])][0])"
   ]
  },
  {
   "cell_type": "code",
   "execution_count": 22,
   "metadata": {},
   "outputs": [],
   "source": [
    "corners.add_row(corner_data[corner_data['z']==max(corner_data['z'])][0])"
   ]
  },
  {
   "cell_type": "code",
   "execution_count": 23,
   "metadata": {},
   "outputs": [
    {
     "data": {
      "text/html": [
       "<i>Table length=4</i>\n",
       "<table id=\"table47005217213184\" class=\"table-striped table-bordered table-condensed\">\n",
       "<thead><tr><th>ra</th><th>dec</th><th>z</th><th>delta</th></tr></thead>\n",
       "<thead><tr><th>float64</th><th>float64</th><th>float64</th><th>float64</th></tr></thead>\n",
       "<tr><td>-34.90196644835447</td><td>-1.159330826846483</td><td>3.08463316655781</td><td>-2.6700565094875603</td></tr>\n",
       "<tr><td>-34.90196644835447</td><td>-1.159330826846483</td><td>3.523275700157328</td><td>-1.503065938602433</td></tr>\n",
       "<tr><td>-34.692674572422334</td><td>-1.0531637172445856</td><td>2.8041099376252516</td><td>0.24823932086580824</td></tr>\n",
       "<tr><td>-34.692674572422334</td><td>-1.0531637172445856</td><td>3.3878630006634363</td><td>0.8335180931570678</td></tr>\n",
       "</table>"
      ],
      "text/plain": [
       "<Table length=4>\n",
       "         ra                 dec                 z                 delta       \n",
       "      float64             float64            float64             float64      \n",
       "------------------- ------------------- ------------------ -------------------\n",
       " -34.90196644835447  -1.159330826846483   3.08463316655781 -2.6700565094875603\n",
       " -34.90196644835447  -1.159330826846483  3.523275700157328  -1.503065938602433\n",
       "-34.692674572422334 -1.0531637172445856 2.8041099376252516 0.24823932086580824\n",
       "-34.692674572422334 -1.0531637172445856 3.3878630006634363  0.8335180931570678"
      ]
     },
     "execution_count": 23,
     "metadata": {},
     "output_type": "execute_result"
    }
   ],
   "source": [
    "corners"
   ]
  },
  {
   "cell_type": "code",
   "execution_count": 24,
   "metadata": {},
   "outputs": [],
   "source": [
    "corner_data=deltas[deltas['ra']==quasars[2]['ra']] \n",
    "corners.add_row(corner_data[corner_data['z']==min(corner_data['z'])][0])\n",
    "corners.add_row(corner_data[corner_data['z']==max(corner_data['z'])][0])"
   ]
  },
  {
   "cell_type": "code",
   "execution_count": 25,
   "metadata": {},
   "outputs": [
    {
     "data": {
      "text/html": [
       "<i>Table length=6</i>\n",
       "<table id=\"table47005217213184\" class=\"table-striped table-bordered table-condensed\">\n",
       "<thead><tr><th>ra</th><th>dec</th><th>z</th><th>delta</th></tr></thead>\n",
       "<thead><tr><th>float64</th><th>float64</th><th>float64</th><th>float64</th></tr></thead>\n",
       "<tr><td>-34.90196644835447</td><td>-1.159330826846483</td><td>3.08463316655781</td><td>-2.6700565094875603</td></tr>\n",
       "<tr><td>-34.90196644835447</td><td>-1.159330826846483</td><td>3.523275700157328</td><td>-1.503065938602433</td></tr>\n",
       "<tr><td>-34.692674572422334</td><td>-1.0531637172445856</td><td>2.8041099376252516</td><td>0.24823932086580824</td></tr>\n",
       "<tr><td>-34.692674572422334</td><td>-1.0531637172445856</td><td>3.3878630006634363</td><td>0.8335180931570678</td></tr>\n",
       "<tr><td>-34.60865459248191</td><td>-0.8345530857219153</td><td>2.209615875200671</td><td>-0.7347692954871978</td></tr>\n",
       "<tr><td>-34.60865459248191</td><td>-0.8345530857219153</td><td>2.7029944354261946</td><td>-0.3120516786164653</td></tr>\n",
       "</table>"
      ],
      "text/plain": [
       "<Table length=6>\n",
       "         ra                 dec                 z                 delta       \n",
       "      float64             float64            float64             float64      \n",
       "------------------- ------------------- ------------------ -------------------\n",
       " -34.90196644835447  -1.159330826846483   3.08463316655781 -2.6700565094875603\n",
       " -34.90196644835447  -1.159330826846483  3.523275700157328  -1.503065938602433\n",
       "-34.692674572422334 -1.0531637172445856 2.8041099376252516 0.24823932086580824\n",
       "-34.692674572422334 -1.0531637172445856 3.3878630006634363  0.8335180931570678\n",
       " -34.60865459248191 -0.8345530857219153  2.209615875200671 -0.7347692954871978\n",
       " -34.60865459248191 -0.8345530857219153 2.7029944354261946 -0.3120516786164653"
      ]
     },
     "execution_count": 25,
     "metadata": {},
     "output_type": "execute_result"
    }
   ],
   "source": [
    "corners"
   ]
  },
  {
   "cell_type": "code",
   "execution_count": 26,
   "metadata": {},
   "outputs": [],
   "source": [
    "corner_data=deltas[deltas['ra']==quasars[3]['ra']] \n",
    "corners.add_row(corner_data[corner_data['z']==min(corner_data['z'])][0])\n",
    "corners.add_row(corner_data[corner_data['z']==max(corner_data['z'])][0])"
   ]
  },
  {
   "cell_type": "code",
   "execution_count": 27,
   "metadata": {},
   "outputs": [
    {
     "data": {
      "text/html": [
       "<i>Table length=8</i>\n",
       "<table id=\"table47005217213184\" class=\"table-striped table-bordered table-condensed\">\n",
       "<thead><tr><th>ra</th><th>dec</th><th>z</th><th>delta</th></tr></thead>\n",
       "<thead><tr><th>float64</th><th>float64</th><th>float64</th><th>float64</th></tr></thead>\n",
       "<tr><td>-34.90196644835447</td><td>-1.159330826846483</td><td>3.08463316655781</td><td>-2.6700565094875603</td></tr>\n",
       "<tr><td>-34.90196644835447</td><td>-1.159330826846483</td><td>3.523275700157328</td><td>-1.503065938602433</td></tr>\n",
       "<tr><td>-34.692674572422334</td><td>-1.0531637172445856</td><td>2.8041099376252516</td><td>0.24823932086580824</td></tr>\n",
       "<tr><td>-34.692674572422334</td><td>-1.0531637172445856</td><td>3.3878630006634363</td><td>0.8335180931570678</td></tr>\n",
       "<tr><td>-34.60865459248191</td><td>-0.8345530857219153</td><td>2.209615875200671</td><td>-0.7347692954871978</td></tr>\n",
       "<tr><td>-34.60865459248191</td><td>-0.8345530857219153</td><td>2.7029944354261946</td><td>-0.3120516786164653</td></tr>\n",
       "<tr><td>-34.472523569472685</td><td>-0.9748963978803513</td><td>2.1692248999145027</td><td>-0.14715357314047095</td></tr>\n",
       "<tr><td>-34.472523569472685</td><td>-0.9748963978803513</td><td>2.6555527855741072</td><td>-0.06717176539419378</td></tr>\n",
       "</table>"
      ],
      "text/plain": [
       "<Table length=8>\n",
       "         ra                 dec                 z                 delta        \n",
       "      float64             float64            float64             float64       \n",
       "------------------- ------------------- ------------------ --------------------\n",
       " -34.90196644835447  -1.159330826846483   3.08463316655781  -2.6700565094875603\n",
       " -34.90196644835447  -1.159330826846483  3.523275700157328   -1.503065938602433\n",
       "-34.692674572422334 -1.0531637172445856 2.8041099376252516  0.24823932086580824\n",
       "-34.692674572422334 -1.0531637172445856 3.3878630006634363   0.8335180931570678\n",
       " -34.60865459248191 -0.8345530857219153  2.209615875200671  -0.7347692954871978\n",
       " -34.60865459248191 -0.8345530857219153 2.7029944354261946  -0.3120516786164653\n",
       "-34.472523569472685 -0.9748963978803513 2.1692248999145027 -0.14715357314047095\n",
       "-34.472523569472685 -0.9748963978803513 2.6555527855741072 -0.06717176539419378"
      ]
     },
     "execution_count": 27,
     "metadata": {},
     "output_type": "execute_result"
    }
   ],
   "source": [
    "corners"
   ]
  },
  {
   "cell_type": "code",
   "execution_count": 28,
   "metadata": {},
   "outputs": [],
   "source": [
    "corners['z'].name='redshift'"
   ]
  },
  {
   "cell_type": "markdown",
   "metadata": {},
   "source": [
    "## Pass to x,y,z coordinates with comoving distance calculation for its own redshift"
   ]
  },
  {
   "cell_type": "markdown",
   "metadata": {},
   "source": [
    "$$D_{c} = \\frac{c}{H_{0}} \\int_{0}^{z} (\\Omega_{M}(1+z')^{3}+\\Omega_{k}(1+z')^{2}+\\Omega_{\\Lambda})^{-1/2} \\,dz' $$"
   ]
  },
  {
   "cell_type": "code",
   "execution_count": 29,
   "metadata": {},
   "outputs": [],
   "source": [
    "#z to comoving\n",
    "#voidfinder.distance.z_to_comoving_dist\n",
    "\n",
    "Omega_M = 0.3147\n",
    "c = const.c.to('km/s').value\n",
    "def Distance(z,omega_m = Omega_M,h = 1):\n",
    "    dist = np.ones(len(z))\n",
    "    H0 = 100*h\n",
    "    for i,redshift in enumerate(z):\n",
    "        a_start = 1/(1+redshift)\n",
    "        I = quad(f,a_start,1,args=omega_m)\n",
    "        dist[i] = I[0]*(c/H0)\n",
    "    return dist\n",
    "\n",
    "def f(a,omega_m = Omega_M):\n",
    "     return 1/(np.sqrt(a*omega_m*(1+((1-omega_m)*a**3/omega_m)))) "
   ]
  },
  {
   "cell_type": "code",
   "execution_count": 30,
   "metadata": {},
   "outputs": [],
   "source": [
    "corners['comoving']= Distance(corners['redshift'],Omega_M,1)"
   ]
  },
  {
   "cell_type": "code",
   "execution_count": 31,
   "metadata": {},
   "outputs": [
    {
     "data": {
      "text/html": [
       "&lt;Column name=&apos;comoving&apos; dtype=&apos;float64&apos; length=8&gt;\n",
       "<table>\n",
       "<tr><td>4441.089182834704</td></tr>\n",
       "<tr><td>4700.497500983059</td></tr>\n",
       "<tr><td>4252.891800657206</td></tr>\n",
       "<tr><td>4624.472891632714</td></tr>\n",
       "<tr><td>3779.0382550917548</td></tr>\n",
       "<tr><td>4180.062188281467</td></tr>\n",
       "<tr><td>3742.353000373667</td></tr>\n",
       "<tr><td>4144.897513044186</td></tr>\n",
       "</table>"
      ],
      "text/plain": [
       "<Column name='comoving' dtype='float64' length=8>\n",
       " 4441.089182834704\n",
       " 4700.497500983059\n",
       " 4252.891800657206\n",
       " 4624.472891632714\n",
       "3779.0382550917548\n",
       " 4180.062188281467\n",
       " 3742.353000373667\n",
       " 4144.897513044186"
      ]
     },
     "execution_count": 31,
     "metadata": {},
     "output_type": "execute_result"
    }
   ],
   "source": [
    "corners['comoving']"
   ]
  },
  {
   "cell_type": "code",
   "execution_count": 32,
   "metadata": {},
   "outputs": [
    {
     "data": {
      "text/plain": [
       "array([3677.92839129])"
      ]
     },
     "execution_count": 32,
     "metadata": {},
     "output_type": "execute_result"
    }
   ],
   "source": [
    "#Another check for my point of interest at z=2.1\n",
    "Distance([2.1],Omega_M,1)"
   ]
  },
  {
   "cell_type": "code",
   "execution_count": 41,
   "metadata": {},
   "outputs": [],
   "source": [
    "#z to comoving\n",
    "#voidfinder.distance.z_to_comoving_dist\n",
    "\n",
    "Omega_M = 0.3147\n",
    "c = const.c.to('km/s').value\n",
    "def Distance(z,omega_m = Omega_M,h = 1):\n",
    "    dist = np.ones(len(z))\n",
    "    H0 = 100*h\n",
    "    for i,redshift in enumerate(z):\n",
    "        a_final=1+redshift\n",
    "        I = quad(f,1,a_final,args=omega_m)\n",
    "        dist[i] = I[0]*(c/H0)\n",
    "    return dist\n",
    "\n",
    "def f(a,omega_m = Omega_M):\n",
    "     return 1/(np.sqrt(omega_m*(a**3)+(1-omega_m))) "
   ]
  },
  {
   "cell_type": "code",
   "execution_count": 42,
   "metadata": {},
   "outputs": [],
   "source": [
    "comoving_nesli= Distance(corners['redshift'],Omega_M,1)"
   ]
  },
  {
   "cell_type": "code",
   "execution_count": 43,
   "metadata": {},
   "outputs": [
    {
     "data": {
      "text/plain": [
       "array([4441.08918283, 4700.49750098, 4252.89180066, 4624.47289163,\n",
       "       3779.03825509, 4180.06218828, 3742.35300037, 4144.89751304])"
      ]
     },
     "execution_count": 43,
     "metadata": {},
     "output_type": "execute_result"
    }
   ],
   "source": [
    "comoving_nesli"
   ]
  },
  {
   "cell_type": "code",
   "execution_count": 44,
   "metadata": {},
   "outputs": [
    {
     "data": {
      "text/plain": [
       "array([3677.92839129])"
      ]
     },
     "execution_count": 44,
     "metadata": {},
     "output_type": "execute_result"
    }
   ],
   "source": [
    "#Another check for my point of interest at z=2.1\n",
    "Distance([2.1],Omega_M,1)"
   ]
  },
  {
   "cell_type": "code",
   "execution_count": null,
   "metadata": {},
   "outputs": [],
   "source": []
  },
  {
   "cell_type": "code",
   "execution_count": 33,
   "metadata": {},
   "outputs": [],
   "source": [
    "#voidfinder.ra_dec_to_xyz\n",
    "ra = corners['ra']\n",
    "dec = corners['dec']\n",
    "comov = corners['comoving']\n",
    "\n",
    "DtoR = np.pi/180.\n",
    "ra_radian = ra*DtoR\n",
    "dec_radian = dec*DtoR\n",
    "\n",
    "x = comov*np.cos(ra_radian)*np.cos(dec_radian)\n",
    "y = comov*np.sin(ra_radian)*np.cos(dec_radian)\n",
    "z = comov*np.sin(dec_radian)\n",
    "\n",
    "num_corners = x.shape[0]\n",
    "\n",
    "coords_xyz = np.concatenate((x.reshape(num_corners,1),y.reshape(num_corners,1),z.reshape(num_corners,1)), axis=1)"
   ]
  },
  {
   "cell_type": "code",
   "execution_count": 44,
   "metadata": {},
   "outputs": [],
   "source": [
    "coords_xyz=Table(coords_xyz,names=('x','y','z'))"
   ]
  },
  {
   "cell_type": "code",
   "execution_count": 49,
   "metadata": {},
   "outputs": [
    {
     "data": {
      "text/html": [
       "<i>Table length=8</i>\n",
       "<table id=\"table47739810337848\" class=\"table-striped table-bordered table-condensed\">\n",
       "<thead><tr><th>ra</th><th>dec</th><th>redshift</th><th>delta</th><th>comoving</th><th>x</th><th>y</th><th>z</th></tr></thead>\n",
       "<thead><tr><th>float64</th><th>float64</th><th>float64</th><th>float64</th><th>float64</th><th>float64</th><th>float64</th><th>float64</th></tr></thead>\n",
       "<tr><td>-34.90196644835447</td><td>-1.159330826846483</td><td>3.08463316655781</td><td>-2.6700565094875603</td><td>4441.089182834704</td><td>3641.5348275533584</td><td>-2540.5556913297655</td><td>-89.85548875438052</td></tr>\n",
       "<tr><td>-34.90196644835447</td><td>-1.159330826846483</td><td>3.523275700157328</td><td>-1.503065938602433</td><td>4700.497500983059</td><td>3854.2404018402763</td><td>-2688.952008520907</td><td>-95.10403483273109</td></tr>\n",
       "<tr><td>-34.692674572422334</td><td>-1.0531637172445856</td><td>2.8041099376252516</td><td>0.24823932086580824</td><td>4252.891800657206</td><td>3496.208454058167</td><td>-2420.2282457077717</td><td>-78.16874405909016</td></tr>\n",
       "<tr><td>-34.692674572422334</td><td>-1.0531637172445856</td><td>3.3878630006634363</td><td>0.8335180931570678</td><td>4624.472891632714</td><td>3801.677065189062</td><td>-2631.6869646459922</td><td>-84.99845630175138</td></tr>\n",
       "<tr><td>-34.60865459248191</td><td>-0.8345530857219153</td><td>2.209615875200671</td><td>-0.7347692954871978</td><td>3779.0382550917548</td><td>3110.009710884661</td><td>-2146.1453974945393</td><td>-55.04238787559616</td></tr>\n",
       "<tr><td>-34.60865459248191</td><td>-0.8345530857219153</td><td>2.7029944354261946</td><td>-0.3120516786164653</td><td>4180.062188281467</td><td>3440.0376815824293</td><td>-2373.8900273195054</td><td>-60.88337528774644</td></tr>\n",
       "<tr><td>-34.472523569472685</td><td>-0.9748963978803513</td><td>2.1692248999145027</td><td>-0.14715357314047095</td><td>3742.353000373667</td><td>3084.740673361624</td><td>-2117.906189145105</td><td>-63.67363265215281</td></tr>\n",
       "<tr><td>-34.472523569472685</td><td>-0.9748963978803513</td><td>2.6555527855741072</td><td>-0.06717176539419378</td><td>4144.897513044186</td><td>3416.5494126626195</td><td>-2345.717813197183</td><td>-70.5226582313441</td></tr>\n",
       "</table>"
      ],
      "text/plain": [
       "<Table length=8>\n",
       "         ra                 dec         ...         z         \n",
       "      float64             float64       ...      float64      \n",
       "------------------- ------------------- ... ------------------\n",
       " -34.90196644835447  -1.159330826846483 ... -89.85548875438052\n",
       " -34.90196644835447  -1.159330826846483 ... -95.10403483273109\n",
       "-34.692674572422334 -1.0531637172445856 ... -78.16874405909016\n",
       "-34.692674572422334 -1.0531637172445856 ... -84.99845630175138\n",
       " -34.60865459248191 -0.8345530857219153 ... -55.04238787559616\n",
       " -34.60865459248191 -0.8345530857219153 ... -60.88337528774644\n",
       "-34.472523569472685 -0.9748963978803513 ... -63.67363265215281\n",
       "-34.472523569472685 -0.9748963978803513 ...  -70.5226582313441"
      ]
     },
     "execution_count": 49,
     "metadata": {},
     "output_type": "execute_result"
    }
   ],
   "source": [
    "from astropy.table import hstack\n",
    "hstack([corners,coords_xyz])"
   ]
  },
  {
   "cell_type": "code",
   "execution_count": 64,
   "metadata": {},
   "outputs": [],
   "source": [
    "c = const.c.to('km/s').value\n",
    "h=1\n",
    "H0 = 100*h\n",
    "dh=c/H0 "
   ]
  },
  {
   "cell_type": "code",
   "execution_count": 70,
   "metadata": {},
   "outputs": [
    {
     "ename": "TypeError",
     "evalue": "'float' object is not callable",
     "output_type": "error",
     "traceback": [
      "\u001b[0;31m---------------------------------------------------------------------------\u001b[0m",
      "\u001b[0;31mTypeError\u001b[0m                                 Traceback (most recent call last)",
      "\u001b[0;32m<ipython-input-70-15c880ad44f2>\u001b[0m in \u001b[0;36m<module>\u001b[0;34m\u001b[0m\n\u001b[1;32m      5\u001b[0m \u001b[0;34m\u001b[0m\u001b[0m\n\u001b[1;32m      6\u001b[0m \u001b[0;31m#dc = dh*\u001b[0m\u001b[0;34m\u001b[0m\u001b[0;34m\u001b[0m\u001b[0;34m\u001b[0m\u001b[0m\n\u001b[0;32m----> 7\u001b[0;31m \u001b[0mscipy\u001b[0m\u001b[0;34m.\u001b[0m\u001b[0mintegrate\u001b[0m\u001b[0;34m.\u001b[0m\u001b[0mquad\u001b[0m\u001b[0;34m(\u001b[0m\u001b[0mintegrand\u001b[0m\u001b[0;34m,\u001b[0m \u001b[0;36m0\u001b[0m\u001b[0;34m,\u001b[0m \u001b[0mcorners\u001b[0m\u001b[0;34m[\u001b[0m\u001b[0;34m'redshift'\u001b[0m\u001b[0;34m]\u001b[0m\u001b[0;34m[\u001b[0m\u001b[0;36m0\u001b[0m\u001b[0;34m]\u001b[0m\u001b[0;34m)\u001b[0m\u001b[0;34m[\u001b[0m\u001b[0;36m0\u001b[0m\u001b[0;34m]\u001b[0m\u001b[0;34m\u001b[0m\u001b[0;34m\u001b[0m\u001b[0m\n\u001b[0m",
      "\u001b[0;32m/software/python3/3.7.1/lib/python3.7/site-packages/scipy/integrate/quadpack.py\u001b[0m in \u001b[0;36mquad\u001b[0;34m(func, a, b, args, full_output, epsabs, epsrel, limit, points, weight, wvar, wopts, maxp1, limlst)\u001b[0m\n\u001b[1;32m    340\u001b[0m     \u001b[0;32mif\u001b[0m \u001b[0mweight\u001b[0m \u001b[0;32mis\u001b[0m \u001b[0;32mNone\u001b[0m\u001b[0;34m:\u001b[0m\u001b[0;34m\u001b[0m\u001b[0;34m\u001b[0m\u001b[0m\n\u001b[1;32m    341\u001b[0m         retval = _quad(func, a, b, args, full_output, epsabs, epsrel, limit,\n\u001b[0;32m--> 342\u001b[0;31m                        points)\n\u001b[0m\u001b[1;32m    343\u001b[0m     \u001b[0;32melse\u001b[0m\u001b[0;34m:\u001b[0m\u001b[0;34m\u001b[0m\u001b[0;34m\u001b[0m\u001b[0m\n\u001b[1;32m    344\u001b[0m         \u001b[0;32mif\u001b[0m \u001b[0mpoints\u001b[0m \u001b[0;32mis\u001b[0m \u001b[0;32mnot\u001b[0m \u001b[0;32mNone\u001b[0m\u001b[0;34m:\u001b[0m\u001b[0;34m\u001b[0m\u001b[0;34m\u001b[0m\u001b[0m\n",
      "\u001b[0;32m/software/python3/3.7.1/lib/python3.7/site-packages/scipy/integrate/quadpack.py\u001b[0m in \u001b[0;36m_quad\u001b[0;34m(func, a, b, args, full_output, epsabs, epsrel, limit, points)\u001b[0m\n\u001b[1;32m    451\u001b[0m     \u001b[0;32mif\u001b[0m \u001b[0mpoints\u001b[0m \u001b[0;32mis\u001b[0m \u001b[0;32mNone\u001b[0m\u001b[0;34m:\u001b[0m\u001b[0;34m\u001b[0m\u001b[0;34m\u001b[0m\u001b[0m\n\u001b[1;32m    452\u001b[0m         \u001b[0;32mif\u001b[0m \u001b[0minfbounds\u001b[0m \u001b[0;34m==\u001b[0m \u001b[0;36m0\u001b[0m\u001b[0;34m:\u001b[0m\u001b[0;34m\u001b[0m\u001b[0;34m\u001b[0m\u001b[0m\n\u001b[0;32m--> 453\u001b[0;31m             \u001b[0;32mreturn\u001b[0m \u001b[0m_quadpack\u001b[0m\u001b[0;34m.\u001b[0m\u001b[0m_qagse\u001b[0m\u001b[0;34m(\u001b[0m\u001b[0mfunc\u001b[0m\u001b[0;34m,\u001b[0m\u001b[0ma\u001b[0m\u001b[0;34m,\u001b[0m\u001b[0mb\u001b[0m\u001b[0;34m,\u001b[0m\u001b[0margs\u001b[0m\u001b[0;34m,\u001b[0m\u001b[0mfull_output\u001b[0m\u001b[0;34m,\u001b[0m\u001b[0mepsabs\u001b[0m\u001b[0;34m,\u001b[0m\u001b[0mepsrel\u001b[0m\u001b[0;34m,\u001b[0m\u001b[0mlimit\u001b[0m\u001b[0;34m)\u001b[0m\u001b[0;34m\u001b[0m\u001b[0;34m\u001b[0m\u001b[0m\n\u001b[0m\u001b[1;32m    454\u001b[0m         \u001b[0;32melse\u001b[0m\u001b[0;34m:\u001b[0m\u001b[0;34m\u001b[0m\u001b[0;34m\u001b[0m\u001b[0m\n\u001b[1;32m    455\u001b[0m             \u001b[0;32mreturn\u001b[0m \u001b[0m_quadpack\u001b[0m\u001b[0;34m.\u001b[0m\u001b[0m_qagie\u001b[0m\u001b[0;34m(\u001b[0m\u001b[0mfunc\u001b[0m\u001b[0;34m,\u001b[0m\u001b[0mbound\u001b[0m\u001b[0;34m,\u001b[0m\u001b[0minfbounds\u001b[0m\u001b[0;34m,\u001b[0m\u001b[0margs\u001b[0m\u001b[0;34m,\u001b[0m\u001b[0mfull_output\u001b[0m\u001b[0;34m,\u001b[0m\u001b[0mepsabs\u001b[0m\u001b[0;34m,\u001b[0m\u001b[0mepsrel\u001b[0m\u001b[0;34m,\u001b[0m\u001b[0mlimit\u001b[0m\u001b[0;34m)\u001b[0m\u001b[0;34m\u001b[0m\u001b[0;34m\u001b[0m\u001b[0m\n",
      "\u001b[0;32m<ipython-input-70-15c880ad44f2>\u001b[0m in \u001b[0;36mintegrand\u001b[0;34m(x)\u001b[0m\n\u001b[1;32m      1\u001b[0m \u001b[0;31m#My code from earlier\u001b[0m\u001b[0;34m\u001b[0m\u001b[0;34m\u001b[0m\u001b[0;34m\u001b[0m\u001b[0m\n\u001b[1;32m      2\u001b[0m \u001b[0;32mdef\u001b[0m \u001b[0mintegrand\u001b[0m\u001b[0;34m(\u001b[0m\u001b[0mx\u001b[0m\u001b[0;34m)\u001b[0m\u001b[0;34m:\u001b[0m\u001b[0;34m\u001b[0m\u001b[0;34m\u001b[0m\u001b[0m\n\u001b[0;32m----> 3\u001b[0;31m     \u001b[0;32mreturn\u001b[0m \u001b[0;34m(\u001b[0m\u001b[0mOmega_M\u001b[0m\u001b[0;34m(\u001b[0m\u001b[0;34m(\u001b[0m\u001b[0;36m1\u001b[0m\u001b[0;34m+\u001b[0m\u001b[0mx\u001b[0m\u001b[0;34m)\u001b[0m\u001b[0;34m**\u001b[0m\u001b[0;36m3\u001b[0m\u001b[0;34m)\u001b[0m\u001b[0;34m+\u001b[0m\u001b[0;36m1\u001b[0m\u001b[0;34m-\u001b[0m\u001b[0mOmega_M\u001b[0m\u001b[0;34m)\u001b[0m\u001b[0;34m**\u001b[0m\u001b[0;34m(\u001b[0m\u001b[0;34m-\u001b[0m\u001b[0;36m1\u001b[0m\u001b[0;34m/\u001b[0m\u001b[0;36m2\u001b[0m\u001b[0;34m)\u001b[0m\u001b[0;34m\u001b[0m\u001b[0;34m\u001b[0m\u001b[0m\n\u001b[0m\u001b[1;32m      4\u001b[0m \u001b[0;34m\u001b[0m\u001b[0m\n\u001b[1;32m      5\u001b[0m \u001b[0;34m\u001b[0m\u001b[0m\n",
      "\u001b[0;31mTypeError\u001b[0m: 'float' object is not callable"
     ]
    }
   ],
   "source": [
    "#My code from earlier\n",
    "def integrand(x):\n",
    "    return (Omega_M((1+x)**3)+1-Omega_M)**(-1/2)\n",
    "\n",
    "\n",
    "#dc = dh* \n",
    "scipy.integrate.quad(integrand, 0, corners['redshift'][0])[0]\n"
   ]
  },
  {
   "cell_type": "markdown",
   "metadata": {},
   "source": [
    "## Return back to redshift and check"
   ]
  },
  {
   "cell_type": "code",
   "execution_count": 53,
   "metadata": {},
   "outputs": [],
   "source": [
    "comov_calc= np.sqrt(x**2+y**2+z**2)"
   ]
  },
  {
   "cell_type": "code",
   "execution_count": 54,
   "metadata": {},
   "outputs": [
    {
     "data": {
      "text/html": [
       "&lt;Column name=&apos;comoving&apos; dtype=&apos;float64&apos; length=8&gt;\n",
       "<table>\n",
       "<tr><td>4441.089182834704</td></tr>\n",
       "<tr><td>4700.497500983059</td></tr>\n",
       "<tr><td>4252.891800657206</td></tr>\n",
       "<tr><td>4624.472891632714</td></tr>\n",
       "<tr><td>3779.0382550917548</td></tr>\n",
       "<tr><td>4180.062188281467</td></tr>\n",
       "<tr><td>3742.353000373667</td></tr>\n",
       "<tr><td>4144.897513044187</td></tr>\n",
       "</table>"
      ],
      "text/plain": [
       "<Column name='comoving' dtype='float64' length=8>\n",
       " 4441.089182834704\n",
       " 4700.497500983059\n",
       " 4252.891800657206\n",
       " 4624.472891632714\n",
       "3779.0382550917548\n",
       " 4180.062188281467\n",
       " 3742.353000373667\n",
       " 4144.897513044187"
      ]
     },
     "execution_count": 54,
     "metadata": {},
     "output_type": "execute_result"
    }
   ],
   "source": [
    "comov_calc"
   ]
  },
  {
   "cell_type": "code",
   "execution_count": null,
   "metadata": {},
   "outputs": [],
   "source": []
  },
  {
   "cell_type": "code",
   "execution_count": null,
   "metadata": {},
   "outputs": [],
   "source": []
  },
  {
   "cell_type": "code",
   "execution_count": null,
   "metadata": {},
   "outputs": [],
   "source": []
  },
  {
   "cell_type": "code",
   "execution_count": null,
   "metadata": {},
   "outputs": [],
   "source": []
  },
  {
   "cell_type": "code",
   "execution_count": null,
   "metadata": {},
   "outputs": [],
   "source": []
  }
 ],
 "metadata": {
  "kernelspec": {
   "display_name": "Python 3 (3.7.1)",
   "language": "python",
   "name": "python3-3.7.1"
  },
  "language_info": {
   "codemirror_mode": {
    "name": "ipython",
    "version": 3
   },
   "file_extension": ".py",
   "mimetype": "text/x-python",
   "name": "python",
   "nbconvert_exporter": "python",
   "pygments_lexer": "ipython3",
   "version": "3.7.1"
  }
 },
 "nbformat": 4,
 "nbformat_minor": 2
}
