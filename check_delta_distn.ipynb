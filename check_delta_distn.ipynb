{
 "cells": [
  {
   "cell_type": "code",
   "execution_count": 1,
   "metadata": {},
   "outputs": [],
   "source": [
    "import numpy as np\n",
    "\n",
    "import matplotlib as mpl\n",
    "import matplotlib.pyplot as plt\n",
    "import mpl_toolkits.axisartist.floating_axes as floating_axes\n",
    "import mpl_toolkits.axisartist.angle_helper as angle_helper\n",
    "from mpl_toolkits.axisartist.grid_finder import MaxNLocator\n",
    "from matplotlib.transforms import Affine2D\n",
    "from scipy.integrate import quad as quad\n",
    "import sys\n",
    "sys.path.insert(0, \"/scratch/ierez/IGMCosmo/VoidFinder/python/\")\n",
    "#import voidfinder\n",
    "#from voidfinder import distance\n",
    "#from voidfinder.distance import z_to_comoving_dist\n",
    "from astropy import constants as const\n",
    "from astropy.table import Table\n",
    "\n",
    "import os\n",
    "from astropy.io import fits\n",
    "in_directory='/scratch/ierez/IGMCosmo/VoidFinder/outputs/delta_runs/'\n",
    "os.chdir(in_directory)"
   ]
  },
  {
   "cell_type": "code",
   "execution_count": null,
   "metadata": {},
   "outputs": [],
   "source": [
    "recons_filename = '/scratch/sbenzvi_lab/boss/dr16/reconstructed_maps/data_reconstructed_random_without0s_shifted90.fits' #delta_fields\n",
    "quasars_filename='/scratch/sbenzvi_lab/boss/dr16/delta_fields/quasars.fits'\n",
    "#void_filename = '/Users/kellydouglass/Documents/Research/Voids/VoidFinder/void_catalogs/SDSS/python_implementation/vollim_dr7_cbp_102709_comoving_maximal.txt'\n",
    "#void_filename = '/scratch/ierez/IGMCosmo/VoidFinder/outputs/delta_runsdeltafields_added90_fixed._comoving_maximal_noMagCut.txt'"
   ]
  },
  {
   "cell_type": "code",
   "execution_count": null,
   "metadata": {},
   "outputs": [],
   "source": [
    "# Galaxy catalog\n",
    "#galaxies = Table.read(galaxy_filename, format='ascii.commented_header', \n",
    "#                      include_names=['ra', 'dec', 'redshift', 'Rgal', 'vflag'])\n",
    "recons = fits.open(recons_filename)  \n",
    "recons=Table(recons[1].data)\n",
    "recons['z'].name='redshift'\n",
    "\n",
    "#rgal=Table.Column(1*np.ones(len(galaxies['ra'])), name='Rgal')\n",
    "#galaxies.add_column(rgal)\n",
    "#vflag=Table.Column(np.zeros(len(galaxies['ra'])), name='vflag') #vflag for coloring purposes\n",
    "#galaxies.add_column(vflag)\n",
    "# Void catalog (detected voids, output of voidfinder)\n",
    "#voids = Table.read(void_filename, format='ascii.commented_header')\n",
    "\n",
    "quasars = fits.open(quasars_filename)  \n",
    "quasars=Table(quasars[1].data)\n",
    "#galaxies[0:5]"
   ]
  },
  {
   "cell_type": "code",
   "execution_count": null,
   "metadata": {},
   "outputs": [],
   "source": [
    "#Histogram of redshift\n",
    "dpi=500\n",
    "mpl.rcParams['figure.dpi']= dpi\n",
    "plt.figure()                                                                                        \n",
    "plt.rc('text', usetex=False)                                                                        \n",
    "plt.rc('font', family='serif')                                                                      \n",
    "                                                                                                    \n",
    "plt.grid(True,ls='-.',alpha=.4)                                                                     \n",
    "plt.title(r'Histogram for redshifts of reconstructed maps for S82', fontsize=16)                                         \n",
    "plt.xlabel(r'Redshift',fontsize=14)                                                                       \n",
    "plt.ylabel(r'Number',fontsize=18)                                                                   \n",
    "                                                                                                    \n",
    "plt.hist(recons['redshift'] , bins=30, color='teal')#,bins=range(int(min(galaxies['cz'])), int(max(galaxies['cz'])) + 0.1, 0.1), color='teal')                                                                   \\\n",
    "                                                                                                    \n",
    "#plt.hist(2*np.pi*data[1].data['ra'], color='teal')                                                  \n",
    "plt.show()                                                                                          \n",
    "                                                                                                    \n",
    "plt.savefig('recons_redshift_distn.png')  \n",
    "#max(quasars['comoving'])"
   ]
  },
  {
   "cell_type": "code",
   "execution_count": null,
   "metadata": {},
   "outputs": [],
   "source": [
    "len(recons['ra'])"
   ]
  },
  {
   "cell_type": "code",
   "execution_count": null,
   "metadata": {},
   "outputs": [],
   "source": [
    "import seaborn as sns\n",
    "sns.set_theme(style=\"whitegrid\")\n",
    "ax = sns.violinplot(x=recons[\"delta\"])"
   ]
  },
  {
   "cell_type": "code",
   "execution_count": null,
   "metadata": {},
   "outputs": [],
   "source": []
  },
  {
   "cell_type": "code",
   "execution_count": null,
   "metadata": {},
   "outputs": [],
   "source": []
  },
  {
   "cell_type": "code",
   "execution_count": null,
   "metadata": {},
   "outputs": [],
   "source": []
  },
  {
   "cell_type": "code",
   "execution_count": null,
   "metadata": {},
   "outputs": [],
   "source": []
  }
 ],
 "metadata": {
  "kernelspec": {
   "display_name": "Python 3 (3.7.1)",
   "language": "python",
   "name": "python3-3.7.1"
  },
  "language_info": {
   "codemirror_mode": {
    "name": "ipython",
    "version": 3
   },
   "file_extension": ".py",
   "mimetype": "text/x-python",
   "name": "python",
   "nbconvert_exporter": "python",
   "pygments_lexer": "ipython3",
   "version": "3.7.1"
  }
 },
 "nbformat": 4,
 "nbformat_minor": 2
}
