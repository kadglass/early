{
 "cells": [
  {
   "cell_type": "code",
   "execution_count": 1,
   "metadata": {},
   "outputs": [],
   "source": [
    "import numpy as np\n",
    "\n",
    "import matplotlib as mpl\n",
    "import matplotlib.pyplot as plt\n",
    "import mpl_toolkits.axisartist.floating_axes as floating_axes\n",
    "import mpl_toolkits.axisartist.angle_helper as angle_helper\n",
    "from mpl_toolkits.axisartist.grid_finder import MaxNLocator\n",
    "from matplotlib.transforms import Affine2D\n",
    "\n",
    "%matplotlib notebook\n",
    "import sys\n",
    "sys.path.insert(0, \"/scratch/ierez/IGMCosmo/VoidFinder/python/\")\n",
    "#from voidfinder.voidfinder_functions import xyz_to_radecz\n",
    "\n",
    "from astropy import constants as const\n",
    "from astropy.table import Table\n",
    "\n",
    "import os\n",
    "from astropy.io import fits\n",
    "in_directory='/scratch/ierez/IGMCosmo/VoidFinder/data/DR16S82_H/delta_fields/'\n",
    "os.chdir(in_directory)\n",
    "#from .table_functions import to_array"
   ]
  },
  {
   "cell_type": "code",
   "execution_count": 1,
   "metadata": {},
   "outputs": [
    {
     "ename": "ModuleNotFoundError",
     "evalue": "No module named 'voidfinder._hole_combine_cython'",
     "output_type": "error",
     "traceback": [
      "\u001b[0;31m---------------------------------------------------------------------------\u001b[0m",
      "\u001b[0;31mModuleNotFoundError\u001b[0m                       Traceback (most recent call last)",
      "\u001b[0;32m<ipython-input-1-f7596a2e089a>\u001b[0m in \u001b[0;36m<module>\u001b[0;34m()\u001b[0m\n\u001b[1;32m      1\u001b[0m \u001b[0;32mimport\u001b[0m \u001b[0msys\u001b[0m\u001b[0;34m\u001b[0m\u001b[0m\n\u001b[1;32m      2\u001b[0m \u001b[0msys\u001b[0m\u001b[0;34m.\u001b[0m\u001b[0mpath\u001b[0m\u001b[0;34m.\u001b[0m\u001b[0minsert\u001b[0m\u001b[0;34m(\u001b[0m\u001b[0;36m0\u001b[0m\u001b[0;34m,\u001b[0m \u001b[0;34m\"/scratch/ierez/IGMCosmo/VoidFinder/python/\"\u001b[0m\u001b[0;34m)\u001b[0m\u001b[0;34m\u001b[0m\u001b[0m\n\u001b[0;32m----> 3\u001b[0;31m \u001b[0;32mfrom\u001b[0m \u001b[0mvoidfinder\u001b[0m\u001b[0;34m.\u001b[0m\u001b[0mvoidfinder_functions\u001b[0m \u001b[0;32mimport\u001b[0m \u001b[0mxyz_to_radecz\u001b[0m\u001b[0;34m\u001b[0m\u001b[0m\n\u001b[0m",
      "\u001b[0;32m/scratch/ierez/IGMCosmo/VoidFinder/python/voidfinder/__init__.py\u001b[0m in \u001b[0;36m<module>\u001b[0;34m()\u001b[0m\n\u001b[1;32m     15\u001b[0m \u001b[0;31m#\"from voidfinder.voidfinder import filter galaxies\"\u001b[0m\u001b[0;34m\u001b[0m\u001b[0;34m\u001b[0m\u001b[0m\n\u001b[1;32m     16\u001b[0m \u001b[0;34m\u001b[0m\u001b[0m\n\u001b[0;32m---> 17\u001b[0;31m \u001b[0;32mfrom\u001b[0m \u001b[0;34m.\u001b[0m\u001b[0mvoidfinder\u001b[0m \u001b[0;32mimport\u001b[0m \u001b[0mfilter_data\u001b[0m\u001b[0;34m,\u001b[0m\u001b[0;31m \u001b[0m\u001b[0;31m\\\u001b[0m\u001b[0;34m\u001b[0m\u001b[0m\n\u001b[0m\u001b[1;32m     18\u001b[0m                         \u001b[0mra_dec_to_xyz\u001b[0m\u001b[0;34m,\u001b[0m\u001b[0;31m \u001b[0m\u001b[0;31m\\\u001b[0m\u001b[0;34m\u001b[0m\u001b[0m\n\u001b[1;32m     19\u001b[0m                         \u001b[0mcalculate_grid\u001b[0m\u001b[0;34m,\u001b[0m\u001b[0;31m \u001b[0m\u001b[0;31m\\\u001b[0m\u001b[0;34m\u001b[0m\u001b[0m\n",
      "\u001b[0;32m/scratch/ierez/IGMCosmo/VoidFinder/python/voidfinder/voidfinder.py\u001b[0m in \u001b[0;36m<module>\u001b[0;34m()\u001b[0m\n\u001b[1;32m     12\u001b[0m \u001b[0;32mimport\u001b[0m \u001b[0mmatplotlib\u001b[0m\u001b[0;34m.\u001b[0m\u001b[0mpyplot\u001b[0m \u001b[0;32mas\u001b[0m \u001b[0mplt\u001b[0m\u001b[0;34m\u001b[0m\u001b[0m\n\u001b[1;32m     13\u001b[0m \u001b[0;34m\u001b[0m\u001b[0m\n\u001b[0;32m---> 14\u001b[0;31m \u001b[0;32mfrom\u001b[0m \u001b[0;34m.\u001b[0m\u001b[0mhole_combine\u001b[0m \u001b[0;32mimport\u001b[0m \u001b[0mcombine_holes\u001b[0m\u001b[0;34m,\u001b[0m \u001b[0mcombine_holes_2\u001b[0m\u001b[0;34m\u001b[0m\u001b[0m\n\u001b[0m\u001b[1;32m     15\u001b[0m \u001b[0;34m\u001b[0m\u001b[0m\n\u001b[1;32m     16\u001b[0m \u001b[0;32mfrom\u001b[0m \u001b[0;34m.\u001b[0m\u001b[0mvoidfinder_functions\u001b[0m \u001b[0;32mimport\u001b[0m \u001b[0mmesh_galaxies\u001b[0m\u001b[0;34m,\u001b[0m\u001b[0;31m \u001b[0m\u001b[0;31m\\\u001b[0m\u001b[0;34m\u001b[0m\u001b[0m\n",
      "\u001b[0;32m/scratch/ierez/IGMCosmo/VoidFinder/python/voidfinder/hole_combine.py\u001b[0m in \u001b[0;36m<module>\u001b[0;34m()\u001b[0m\n\u001b[1;32m     10\u001b[0m \u001b[0;31m#warnings.simplefilter('error')\u001b[0m\u001b[0;34m\u001b[0m\u001b[0;34m\u001b[0m\u001b[0m\n\u001b[1;32m     11\u001b[0m \u001b[0;34m\u001b[0m\u001b[0m\n\u001b[0;32m---> 12\u001b[0;31m \u001b[0;32mfrom\u001b[0m \u001b[0;34m.\u001b[0m\u001b[0m_hole_combine_cython\u001b[0m \u001b[0;32mimport\u001b[0m \u001b[0mremove_duplicates_2\u001b[0m\u001b[0;34m,\u001b[0m \u001b[0mfind_maximals_2\u001b[0m\u001b[0;34m,\u001b[0m \u001b[0mfind_holes_2\u001b[0m\u001b[0;34m\u001b[0m\u001b[0m\n\u001b[0m\u001b[1;32m     13\u001b[0m \u001b[0;34m\u001b[0m\u001b[0m\n\u001b[1;32m     14\u001b[0m \u001b[0;34m\u001b[0m\u001b[0m\n",
      "\u001b[0;31mModuleNotFoundError\u001b[0m: No module named 'voidfinder._hole_combine_cython'"
     ]
    }
   ],
   "source": [
    "import sys\n",
    "sys.path.insert(0, \"/scratch/ierez/IGMCosmo/VoidFinder/python/\")\n",
    "from voidfinder.voidfinder_functions import xyz_to_radecz"
   ]
  },
  {
   "cell_type": "markdown",
   "metadata": {},
   "source": [
    "# Data files\n",
    "\n",
    "### Galaxies"
   ]
  },
  {
   "cell_type": "code",
   "execution_count": 3,
   "metadata": {},
   "outputs": [],
   "source": [
    "data_directory = '/scratch/ierez/IGMCosmo/VoidFinder/data/DR16S82_H/delta_fields/'\n",
    "\n",
    "# Original SDSS DR7 (KIAS-VAGC)\n",
    "dr7_filename = data_directory + 'deltafields_added90_fixed.fits'\n",
    "\n",
    "# Downsampled SDSS DR7 (to match SDSS LOWZ)\n",
    "downDR7_filename = data_directory + 'quasars.fits'"
   ]
  },
  {
   "cell_type": "markdown",
   "metadata": {},
   "source": [
    "### Voids"
   ]
  },
  {
   "cell_type": "code",
   "execution_count": 4,
   "metadata": {},
   "outputs": [],
   "source": [
    "#void_directory = ''\n",
    "\n",
    "# Original DR7 voids\n",
    "dr7void_filename = '/scratch/ierez/IGMCosmo/VoidFinder/outputs/delta_runsdeltafields_added90_fixed._comoving_holes_noMagCut.txt'\n",
    "\n",
    "# Downsampled SDSS DR7 voids\n",
    "downDR7void_filename = '/scratch/ierez/IGMCosmo/VoidFinder/outputs/delta_runsdeltafields_added90_fixed._comoving_maximal_noMagCut.txt'"
   ]
  },
  {
   "cell_type": "markdown",
   "metadata": {},
   "source": [
    "# Import data\n",
    "\n",
    "### Galaxies"
   ]
  },
  {
   "cell_type": "code",
   "execution_count": 5,
   "metadata": {},
   "outputs": [],
   "source": [
    "dr7_galaxies = fits.open(dr7_filename)  \n",
    "dr7_galaxies = Table(dr7_galaxies[1].data)\n",
    "\n",
    "dr7LOWZ_galaxies = fits.open(downDR7_filename)  \n",
    "dr7LOWZ_galaxies = Table(dr7LOWZ_galaxies[1].data)"
   ]
  },
  {
   "cell_type": "markdown",
   "metadata": {},
   "source": [
    "# Original SDSS DR7\n",
    "dr7_galaxies= Table.read(dr7_filename, \n",
    "                          format='ascii.commented_header', \n",
    "                          include_names=['ra', 'dec', 'redshift', 'Rgal', 'rabsmag'])\n",
    "\n",
    "# Downsampled SDSS DR7\n",
    "dr7LOWZ_galaxies = Table.read(downDR7_filename, \n",
    "                              format='ascii.commented_header', \n",
    "                              include_names=['ra', 'dec', 'redshift', 'Rgal', 'rabsmag'])"
   ]
  },
  {
   "cell_type": "markdown",
   "metadata": {},
   "source": [
    "##### Reduce original DR7 to magnitude-limited survey"
   ]
  },
  {
   "cell_type": "markdown",
   "metadata": {},
   "source": [
    "mag_cut = dr7_galaxies['rabsmag'] <= -20\n",
    "z_cut = dr7_galaxies['redshift'] < 0.1026\n",
    "\n",
    "vollim_dr7_galaxies = dr7_galaxies[np.logical_and(mag_cut, z_cut)]"
   ]
  },
  {
   "cell_type": "markdown",
   "metadata": {},
   "source": [
    "### Voids"
   ]
  },
  {
   "cell_type": "code",
   "execution_count": 6,
   "metadata": {},
   "outputs": [
    {
     "data": {
      "text/html": [
       "<i>Table length=5</i>\n",
       "<table id=\"table47006383202256\" class=\"table-striped table-bordered table-condensed\">\n",
       "<thead><tr><th>x</th><th>y</th><th>z</th><th>radius</th><th>flag</th></tr></thead>\n",
       "<thead><tr><th>float64</th><th>float64</th><th>float64</th><th>float64</th><th>int64</th></tr></thead>\n",
       "<tr><td>-2515.42124464839</td><td>2885.946757228773</td><td>-16.42206829896108</td><td>45.4095805765128</td><td>0</td></tr>\n",
       "<tr><td>-2781.999251278872</td><td>3174.6785755458645</td><td>-12.387618442482179</td><td>44.833192621207964</td><td>1</td></tr>\n",
       "<tr><td>-2718.7345299884423</td><td>3106.7495724128507</td><td>-10.825927230149468</td><td>41.01574251985375</td><td>2</td></tr>\n",
       "<tr><td>-2718.556406466175</td><td>3107.7353498611233</td><td>-10.46833009713479</td><td>40.23975267737992</td><td>2</td></tr>\n",
       "<tr><td>-2771.853255654397</td><td>3181.019731295694</td><td>4.83119397228613</td><td>39.79723217561291</td><td>1</td></tr>\n",
       "</table>"
      ],
      "text/plain": [
       "<Table length=5>\n",
       "         x                  y          ...       radius        flag\n",
       "      float64            float64       ...      float64       int64\n",
       "------------------- ------------------ ... ------------------ -----\n",
       "  -2515.42124464839  2885.946757228773 ...   45.4095805765128     0\n",
       " -2781.999251278872 3174.6785755458645 ... 44.833192621207964     1\n",
       "-2718.7345299884423 3106.7495724128507 ...  41.01574251985375     2\n",
       " -2718.556406466175 3107.7353498611233 ...  40.23975267737992     2\n",
       " -2771.853255654397  3181.019731295694 ...  39.79723217561291     1"
      ]
     },
     "execution_count": 6,
     "metadata": {},
     "output_type": "execute_result"
    }
   ],
   "source": [
    "# Original DR7 voids\n",
    "dr7_voids = Table.read(dr7void_filename, format='ascii.commented_header')\n",
    "\n",
    "# Downsampled SDSS DR7 voids\n",
    "dr7LOWZ_voids = Table.read(downDR7void_filename, format='ascii.commented_header')\n",
    "dr7LOWZ_voids[0:5]\n",
    "dr7_voids[0:5]"
   ]
  },
  {
   "cell_type": "markdown",
   "metadata": {},
   "source": [
    "##### Convert x,y,z to ra,dec,z for voids"
   ]
  },
  {
   "cell_type": "code",
   "execution_count": 7,
   "metadata": {},
   "outputs": [],
   "source": [
    "def to_array(table):\n",
    "    '''Convert table to numpy array'''\n",
    "\n",
    "    array = np.array([table['x'], table['y'], table['z']])\n",
    "    array = array.T\n",
    "\n",
    "    return array\n",
    "#dr7_voids = xyz_to_radecz(dr7_voids)\n",
    "#dr7LOWZ_voids = xyz_to_radecz(dr7LOWZ_voids)\n",
    "#It really is not there.\n",
    "RtoD = 180./np.pi\n",
    "DtoR = np.pi/180.\n",
    "sphere_table=dr7_voids\n",
    "r = np.linalg.norm(to_array(sphere_table), axis=1)\n",
    "sphere_table['r'] = r.T\n",
    "sphere_table['ra'] = np.arctan(sphere_table['y']/sphere_table['x'])*RtoD\n",
    "sphere_table['dec'] = np.arcsin(sphere_table['z']/sphere_table['r'])*RtoD\n",
    "\n",
    "# Adjust ra value as necessary                                                                  \n",
    "boolean = np.logical_and(sphere_table['y'] != 0, sphere_table['x'] < 0)\n",
    "sphere_table['ra'][boolean] += 180.\n",
    "dr7_voids=sphere_table"
   ]
  },
  {
   "cell_type": "markdown",
   "metadata": {},
   "source": [
    "# Convert redshift to distance\n",
    "\n",
    "Going to plot $cz$ in km/s"
   ]
  },
  {
   "cell_type": "code",
   "execution_count": 15,
   "metadata": {},
   "outputs": [],
   "source": [
    "c = const.c.to('km/s').value\n",
    "\n",
    "dr7_galaxies['cz'] = c*dr7_galaxies['z']\n",
    "dr7LOWZ_galaxies['cz'] = c*dr7LOWZ_galaxies['z']"
   ]
  },
  {
   "cell_type": "markdown",
   "metadata": {},
   "source": [
    "# Function to set up axes\n",
    "\n",
    "Following function from declination_slice.ipynb"
   ]
  },
  {
   "cell_type": "code",
   "execution_count": 16,
   "metadata": {},
   "outputs": [],
   "source": [
    "def setup_axes3(fig, rect, ra0, ra1, cz0, cz1):\n",
    "    \n",
    "    # rotate a bit for better orientation\n",
    "    tr_rotate = Affine2D().translate(-90, 0)\n",
    "    \n",
    "    # scale degree to radians\n",
    "    tr_scale = Affine2D().scale(np.pi/180, 1)\n",
    "\n",
    "    tr = tr_rotate + tr_scale + mpl.projections.PolarAxes.PolarTransform()\n",
    "    \n",
    "    grid_locator1 = angle_helper.LocatorHMS(4)\n",
    "    tick_formatter1 = angle_helper.FormatterHMS()\n",
    "    \n",
    "    grid_locator2 = MaxNLocator(3)\n",
    "    \n",
    "    grid_helper = floating_axes.GridHelperCurveLinear(tr, extremes=(ra0, ra1, cz0, cz1),\n",
    "                                                      grid_locator1=grid_locator1,\n",
    "                                                      grid_locator2=grid_locator2,\n",
    "                                                      tick_formatter1=tick_formatter1,\n",
    "                                                      tick_formatter2=None)\n",
    "\n",
    "    ax1 = floating_axes.FloatingSubplot(fig, rect, grid_helper=grid_helper)\n",
    "    fig.add_subplot(ax1)\n",
    "    \n",
    "    # adjust axis\n",
    "    ax1.axis['left'].set_axis_direction('bottom')\n",
    "    \n",
    "    ax1.axis['right'].set_axis_direction('top')\n",
    "    \n",
    "    ax1.axis['bottom'].set_visible(False)\n",
    "    \n",
    "    ax1.axis['top'].set_axis_direction(\"bottom\")\n",
    "    ax1.axis['top'].toggle(ticklabels=True, label=True)\n",
    "    ax1.axis['top'].major_ticklabels.set_axis_direction(\"top\")\n",
    "    ax1.axis['top'].label.set_axis_direction(\"top\")\n",
    "    \n",
    "    #ax1.axis['left'].major_ticklabels.set_axis_direction('right')\n",
    "    ax1.axis[\"left\"].label.set_text(\"cz [km/s]\")\n",
    "    \n",
    "    aux_ax = ax1.get_aux_axes(tr)\n",
    "\n",
    "    aux_ax.patch = ax1.patch  \n",
    "    ax1.patch.zorder = 0.9  \n",
    "\n",
    "    return ax1, aux_ax"
   ]
  },
  {
   "cell_type": "markdown",
   "metadata": {},
   "source": [
    "# Wedge plot"
   ]
  },
  {
   "cell_type": "code",
   "execution_count": 17,
   "metadata": {},
   "outputs": [],
   "source": [
    "# 'd' is declination and 's' is the thickness of the declination slice\n",
    "# Vary 'd' and 's' to get different slices\n",
    "d, s = 26, 2\n",
    "\n",
    "# slice center, can use this for analysis since the slice thickness is very small\n",
    "slice_ = d + 0.5*s"
   ]
  },
  {
   "cell_type": "markdown",
   "metadata": {},
   "source": [
    "### Remove galaxies outside declination range"
   ]
  },
  {
   "cell_type": "code",
   "execution_count": 18,
   "metadata": {},
   "outputs": [],
   "source": [
    "vollim_dr7_galaxies=dr7_galaxies\n",
    "dr7_dec_cut = np.logical_and(dr7_galaxies['dec'] > d, \n",
    "                             dr7_galaxies['dec'] <= d + s)\n",
    "\n",
    "dr7LOWZ_dec_cut = np.logical_and(dr7LOWZ_galaxies['dec'] > d, \n",
    "                                 dr7LOWZ_galaxies['dec'] <= d + s)\n",
    "\n",
    "vollim_dr7_dec_cut = np.logical_and(vollim_dr7_galaxies['dec'] > d, \n",
    "                                    vollim_dr7_galaxies['dec'] <= d + s)\n",
    "\n",
    "dr7_dec_slice = dr7_galaxies[dr7_dec_cut]\n",
    "dr7LOWZ_dec_slice = dr7LOWZ_galaxies[dr7LOWZ_dec_cut]\n",
    "vollim_dr7_dec_slice = vollim_dr7_galaxies[vollim_dr7_dec_cut]"
   ]
  },
  {
   "cell_type": "markdown",
   "metadata": {},
   "source": [
    "### Remove galaxies outside distance range"
   ]
  },
  {
   "cell_type": "code",
   "execution_count": 23,
   "metadata": {},
   "outputs": [],
   "source": [
    "cz_min, cz_max = 0, c*max(dr7LOWZ_galaxies['z'])\n",
    "\n",
    "dr7_dist_boolean = np.logical_and(dr7_dec_slice['cz'] > cz_min, \n",
    "                                  dr7_dec_slice['cz'] <= cz_max)\n",
    "\n",
    "dr7LOWZ_dist_boolean = np.logical_and(dr7LOWZ_dec_slice['cz'] > cz_min, \n",
    "                                      dr7LOWZ_dec_slice['cz'] <= cz_max)\n",
    "\n",
    "vollim_dr7_dist_boolean = np.logical_and(vollim_dr7_dec_slice['cz'] > cz_min, \n",
    "                                         vollim_dr7_dec_slice['cz'] <= cz_max)\n",
    "\n",
    "dr7_sample = dr7_dec_slice[dr7_dist_boolean]\n",
    "dr7LOWZ_sample = dr7LOWZ_dec_slice[dr7LOWZ_dist_boolean]\n",
    "vollim_dr7_sample = vollim_dr7_dec_slice[vollim_dr7_dist_boolean]"
   ]
  },
  {
   "cell_type": "markdown",
   "metadata": {},
   "source": [
    "### Voids that intersect the slice"
   ]
  },
  {
   "cell_type": "code",
   "execution_count": 24,
   "metadata": {},
   "outputs": [],
   "source": [
    "dr7_dec_intersect_cut = np.sin(np.abs(slice_ - dr7_voids['dec'])*np.pi/180)*dr7_voids['r'] <= dr7_voids['radius']\n",
    "dr7LOWZ_dec_intersect_cut = np.sin(np.abs(slice_ - dr7LOWZ_voids['dec'])*np.pi/180)*dr7LOWZ_voids['r'] <= dr7LOWZ_voids['radius']\n",
    "\n",
    "dr7_void_sample = dr7_voids[dr7_dec_intersect_cut]\n",
    "dr7LOWZ_void_sample = dr7LOWZ_voids[dr7LOWZ_dec_intersect_cut]\n",
    "\n",
    "# Radius of void at intersection\n",
    "dr7_void_sample['radius_intersect'] = np.sqrt(dr7_void_sample['radius']**2 \n",
    "                                              - (np.sin(np.abs(slice_ - dr7_void_sample['dec'])*np.pi/180)*dr7_void_sample['r'])**2)\n",
    "\n",
    "dr7LOWZ_void_sample['radius_intersect'] = np.sqrt(dr7LOWZ_void_sample['radius']**2 \n",
    "                                                  - (np.sin(np.abs(slice_ - dr7LOWZ_void_sample['dec'])*np.pi/180)*dr7LOWZ_void_sample['r'])**2)"
   ]
  },
  {
   "cell_type": "code",
   "execution_count": 25,
   "metadata": {},
   "outputs": [
    {
     "data": {
      "image/png": "[encoded data removed]",
      "text/plain": [
       "<Figure size 1080x720 with 1 Axes>"
      ]
     },
     "metadata": {},
     "output_type": "display_data"
    }
   ],
   "source": [
    "fig = plt.figure(figsize=(15,10))\n",
    "\n",
    "# Range of ra to use in plot\n",
    "ra_min, ra_max = 110, 255\n",
    "\n",
    "ax, aux_ax = setup_axes3(fig, 111, ra_min, ra_max, cz_min, cz_max)\n",
    "\n",
    "\n",
    "# Original DR7 galaxies\n",
    "aux_ax.plot(dr7_sample['ra'], dr7_sample['cz'], \n",
    "            '.', c='b', alpha=0.05, ms=3, zorder=1, label='DR7')\n",
    "\n",
    "# Volume-limited DR7 galaxies\n",
    "aux_ax.plot(vollim_dr7_sample['ra'], vollim_dr7_sample['cz'], \n",
    "            '.', c='g', zorder=2, label='Volume-limited DR7')\n",
    "\n",
    "# Downsampled DR7 galaxies\n",
    "aux_ax.plot(dr7LOWZ_sample['ra'], dr7LOWZ_sample['cz'], \n",
    "            '.', c='m', zorder=3, label='DR7 LOWZ')\n",
    "\n",
    "# Original voids\n",
    "aux_ax.scatter(dr7_void_sample['ra'], dr7_void_sample['r']*100, \n",
    "               s=dr7_void_sample['radius_intersect']*100, \n",
    "               edgecolors='none', facecolors='b', alpha=0.1, \n",
    "               zorder=4, label='DR7 voids')\n",
    "\n",
    "# Downsampled voids\n",
    "aux_ax.scatter(dr7LOWZ_void_sample['ra'], dr7LOWZ_void_sample['r']*100, \n",
    "               s=dr7LOWZ_void_sample['radius_intersect']*100, \n",
    "               edgecolors='none', facecolors='tab:orange', alpha=0.1, \n",
    "               zorder=5, label='DR7 LOWZ voids')\n",
    "\n",
    "ax.legend(bbox_to_anchor=(1.1, 1.15))\n",
    "\n",
    "mpl.rc('font', size=20)\n",
    "\n",
    "plt.tight_layout();"
   ]
  },
  {
   "cell_type": "code",
   "execution_count": null,
   "metadata": {},
   "outputs": [],
   "source": []
  },
  {
   "cell_type": "code",
   "execution_count": null,
   "metadata": {},
   "outputs": [],
   "source": []
  },
  {
   "cell_type": "code",
   "execution_count": null,
   "metadata": {},
   "outputs": [],
   "source": []
  }
 ],
 "metadata": {
  "kernelspec": {
   "display_name": "Python 3 (3.6.5)",
   "language": "python",
   "name": "python3"
  },
  "language_info": {
   "codemirror_mode": {
    "name": "ipython",
    "version": 3
   },
   "file_extension": ".py",
   "mimetype": "text/x-python",
   "name": "python",
   "nbconvert_exporter": "python",
   "pygments_lexer": "ipython3",
   "version": "3.6.5"
  }
 },
 "nbformat": 4,
 "nbformat_minor": 4
}
